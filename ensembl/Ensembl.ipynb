{
 "metadata": {
  "name": "",
  "signature": "sha256:e13da38c2484e5f70a845af4bee6c1453e7425aab9285e04507fadd2d8c256ad"
 },
 "nbformat": 3,
 "nbformat_minor": 0,
 "worksheets": [
  {
   "cells": [
    {
     "cell_type": "markdown",
     "metadata": {},
     "source": [
      "# Accessing Ensembl with BioServices\n",
      "\n",
      "This notebook illustrates some of the functionalities of the ensembl service accessible from BioServices ensembl module. \n",
      "\n",
      "- [Introductory example](#introduction)\n",
      "- [Archive](#archive)\n",
      "- [Comparative genomics](#comparative)\n",
      "- [Cross References](#reference)\n",
      "- [Information](#information)\n",
      "- [Lookup](#lookup)\n",
      "- [Mappingp](#mapping)\n",
      "- [Ontology and Taxonomy](#ontology)\n",
      "- [Overlap](]overlap)\n",
      "- [Regulation](#regulation)\n",
      "- [Sequences](#sequences)\n",
      "- [Variation](#variation)\n",
      "\n",
      " **References**   : http://rest.ensembl.org/ \n",
      "             "
     ]
    },
    {
     "cell_type": "code",
     "collapsed": false,
     "input": [
      "from bioservices import ensembl\n",
      "# for debugigng\n",
      "reload(ensembl)"
     ],
     "language": "python",
     "metadata": {},
     "outputs": [
      {
       "metadata": {},
       "output_type": "pyout",
       "prompt_number": 64,
       "text": [
        "<module 'bioservices.ensembl' from '/home/cokelaer/Work/github/bioservices/src/bioservices/ensembl.py'>"
       ]
      }
     ],
     "prompt_number": 64
    },
    {
     "cell_type": "code",
     "collapsed": false,
     "input": [
      "e = ensembl.Ensembl()"
     ],
     "language": "python",
     "metadata": {},
     "outputs": [],
     "prompt_number": 65
    },
    {
     "cell_type": "code",
     "collapsed": false,
     "input": [
      "e.TIMEOUT = 60"
     ],
     "language": "python",
     "metadata": {},
     "outputs": [],
     "prompt_number": 66
    },
    {
     "cell_type": "heading",
     "level": 2,
     "metadata": {},
     "source": [
      "<a name=\"introduction\"></a>\n",
      "Introductory example"
     ]
    },
    {
     "cell_type": "markdown",
     "metadata": {},
     "source": [
      "- Most of the methods takes one or 2 compulsary arguments\n",
      "- an argument that is not part of the Ensembl API is **frmt**. It can be set to one of the Ensemble output format that is:\n",
      "    - json\n",
      "    - jsonp\n",
      "    - xml\n",
      "    - phyloxml\n",
      "- By default, output is in json format, which is transformed into a Python dictionary"
     ]
    },
    {
     "cell_type": "code",
     "collapsed": false,
     "input": [
      "res = e.get_archive('ENSG00000157764')\n",
      "res"
     ],
     "language": "python",
     "metadata": {},
     "outputs": [
      {
       "metadata": {},
       "output_type": "pyout",
       "prompt_number": 4,
       "text": [
        "{u'assembly': u'GRCh38',\n",
        " u'id': u'ENSG00000157764',\n",
        " u'is_current': u'1',\n",
        " u'latest': u'ENSG00000157764.10',\n",
        " u'peptide': None,\n",
        " u'possible_replacement': [],\n",
        " u'release': u'77',\n",
        " u'type': u'Gene',\n",
        " u'version': u'10'}"
       ]
      }
     ],
     "prompt_number": 4
    },
    {
     "cell_type": "code",
     "collapsed": false,
     "input": [
      "# you can change the format to phyloxml (even though it does not make sense in this context)\n",
      "print(e.get_archive('ENSG00000157764', frmt='phyloxml'))"
     ],
     "language": "python",
     "metadata": {},
     "outputs": [
      {
       "output_type": "stream",
       "stream": "stdout",
       "text": [
        "<html><title>EnsEMBL::REST</title><body><pre>--- \n",
        "assembly: GRCh38\n",
        "id: ENSG00000157764\n",
        "is_current: 1\n",
        "latest: ENSG00000157764.10\n",
        "peptide: ~\n",
        "possible_replacement: []\n",
        "\n",
        "release: 77\n",
        "type: Gene\n",
        "version: 10\n",
        "</pre></body></html>\n"
       ]
      }
     ],
     "prompt_number": 5
    },
    {
     "cell_type": "code",
     "collapsed": false,
     "input": [
      "res = e.get_genetree_by_member_id('ENSG00000157764', frmt='json', nh_format='phylip')\n",
      "print(res[0:100])"
     ],
     "language": "python",
     "metadata": {},
     "outputs": [
      {
       "output_type": "stream",
       "stream": "stdout",
       "text": [
        "<?xml version=\"1.0\" encoding=\"UTF-8\"?>\n",
        "\n",
        "<phyloxml xsi:schemaLocation=\"http://www.phyloxml.org http:/\n"
       ]
      }
     ],
     "prompt_number": 6
    },
    {
     "cell_type": "markdown",
     "metadata": {},
     "source": [
      "> Here, the input frmt (json) is changed since nh_format can be only in phyloxml format\n",
      " So example requires a parameter called nh_format that may overwrite the value of the argument **frmt** even if provided. \n",
      " An example is shown later with the nh_format set to phylib, which is an xml format. If the user set frmt to json, it does \n",
      " make sense so that arguments is ignored."
     ]
    },
    {
     "cell_type": "code",
     "collapsed": false,
     "input": [
      "# If your identifier is incorrect, you will get a 500 error code returned (most probably)\n",
      "wrong = e.get_map_cds_to_region('ENST0000288602', '1..1000')\n",
      "good = e.get_map_cds_to_region('ENST00000288602', '1..1000')\n",
      "wrong, good['mappings'][0]\n"
     ],
     "language": "python",
     "metadata": {},
     "outputs": [
      {
       "metadata": {},
       "output_type": "pyout",
       "prompt_number": 7,
       "text": [
        "(500,\n",
        " {u'assembly_name': u'GRCh38',\n",
        "  u'coord_system': u'chromosome',\n",
        "  u'end': 140924703,\n",
        "  u'gap': 0,\n",
        "  u'rank': 0,\n",
        "  u'seq_region_name': u'7',\n",
        "  u'start': 140924566,\n",
        "  u'strand': -1})"
       ]
      }
     ],
     "prompt_number": 7
    },
    {
     "cell_type": "heading",
     "level": 2,
     "metadata": {},
     "source": [
      "<a name=\"archive\"></a>\n",
      "Archive"
     ]
    },
    {
     "cell_type": "code",
     "collapsed": false,
     "input": [
      "# Get archived sequence given an identifer\n",
      "e.get_archive('ENSG00000157764')"
     ],
     "language": "python",
     "metadata": {},
     "outputs": [
      {
       "metadata": {},
       "output_type": "pyout",
       "prompt_number": 8,
       "text": [
        "{u'assembly': u'GRCh38',\n",
        " u'id': u'ENSG00000157764',\n",
        " u'is_current': u'1',\n",
        " u'latest': u'ENSG00000157764.10',\n",
        " u'peptide': None,\n",
        " u'possible_replacement': [],\n",
        " u'release': u'77',\n",
        " u'type': u'Gene',\n",
        " u'version': u'10'}"
       ]
      }
     ],
     "prompt_number": 8
    },
    {
     "cell_type": "heading",
     "level": 2,
     "metadata": {},
     "source": [
      "<a name=\"comparitive\"></a>\n",
      "Comparative genomics"
     ]
    },
    {
     "cell_type": "heading",
     "level": 3,
     "metadata": {},
     "source": [
      "Gene tree by identifier"
     ]
    },
    {
     "cell_type": "code",
     "collapsed": false,
     "input": [
      "res = e.get_genetree_by_id('ENSGT00390000003602', nh_format='simple')\n",
      "res['id'], res.keys()"
     ],
     "language": "python",
     "metadata": {},
     "outputs": [
      {
       "metadata": {},
       "output_type": "pyout",
       "prompt_number": 9,
       "text": [
        "(u'ENSGT00390000003602', [u'type', u'tree', u'rooted', u'id'])"
       ]
      }
     ],
     "prompt_number": 9
    },
    {
     "cell_type": "code",
     "collapsed": false,
     "input": [
      "res = e.get_genetree_by_id('ENSGT00390000003602', frmt='phyloxml')\n",
      "print(res[0:200])"
     ],
     "language": "python",
     "metadata": {},
     "outputs": [
      {
       "output_type": "stream",
       "stream": "stdout",
       "text": [
        "<?xml version=\"1.0\" encoding=\"UTF-8\"?>\n",
        "\n",
        "<phyloxml xsi:schemaLocation=\"http://www.phyloxml.org http://www.phyloxml.org/1.10/phyloxml.xsd\" xmlns:xsi=\"http://www.w3.org/2001/XMLSchema-instance\" xmlns=\"ht\n"
       ]
      }
     ],
     "prompt_number": 10
    },
    {
     "cell_type": "markdown",
     "metadata": {},
     "source": [
      "Retrieve genetree by member id and returns a phylip structure\n",
      "This takes a few seconds and output xml is large`"
     ]
    },
    {
     "cell_type": "code",
     "collapsed": false,
     "input": [
      "# Here, the input frmt (json) is changed since nh_format can be only in phyloxml format\n",
      "res = e.get_genetree_by_member_id('ENSG00000157764', frmt='json', nh_format='phylip')"
     ],
     "language": "python",
     "metadata": {},
     "outputs": [],
     "prompt_number": 11
    },
    {
     "cell_type": "code",
     "collapsed": false,
     "input": [
      "len(res)"
     ],
     "language": "python",
     "metadata": {},
     "outputs": [
      {
       "metadata": {},
       "output_type": "pyout",
       "prompt_number": 12,
       "text": [
        "2235232"
       ]
      }
     ],
     "prompt_number": 12
    },
    {
     "cell_type": "code",
     "collapsed": false,
     "input": [
      "print(res[0:500])"
     ],
     "language": "python",
     "metadata": {},
     "outputs": [
      {
       "output_type": "stream",
       "stream": "stdout",
       "text": [
        "<?xml version=\"1.0\" encoding=\"UTF-8\"?>\n",
        "\n",
        "<phyloxml xsi:schemaLocation=\"http://www.phyloxml.org http://www.phyloxml.org/1.10/phyloxml.xsd\" xmlns:xsi=\"http://www.w3.org/2001/XMLSchema-instance\" xmlns=\"http://www.phyloxml.org\">\n",
        "  <phylogeny rooted=\"true\" type=\"gene tree\">\n",
        "    <clade branch_length=\"0\">\n",
        "      <taxonomy>\n",
        "        <id>33213</id>\n",
        "        <scientific_name>Bilateria</scientific_name>\n",
        "      </taxonomy>\n",
        "      <events>\n",
        "        <type>speciation_or_duplication</type>\n",
        "        <duplications>1</dup\n"
       ]
      }
     ],
     "prompt_number": 13
    },
    {
     "cell_type": "code",
     "collapsed": false,
     "input": [
      "res = e.get_genetree_by_member_symbol('human', 'BRCA2', nh_format='simple')"
     ],
     "language": "python",
     "metadata": {},
     "outputs": [],
     "prompt_number": 14
    },
    {
     "cell_type": "code",
     "collapsed": false,
     "input": [
      "print(res[0:200])"
     ],
     "language": "python",
     "metadata": {},
     "outputs": [
      {
       "output_type": "stream",
       "stream": "stdout",
       "text": [
        "((((((((ENSPFOP00000001575:0.046083,ENSXMAP00000006983:0.065551):0.43822,ENSONIP00000006940:0.359035):0.019582,((ENSTRUP00000015030:0.077336,ENSTNIP00000002435:0.099898):0.208834,ENSGACP00000015199:0.\n"
       ]
      }
     ],
     "prompt_number": 15
    },
    {
     "cell_type": "heading",
     "level": 2,
     "metadata": {},
     "source": [
      "<a name=\"reference\"></a>\n",
      "Cross references"
     ]
    },
    {
     "cell_type": "code",
     "collapsed": false,
     "input": [
      "res = e.get_xrefs_by_id()"
     ],
     "language": "python",
     "metadata": {},
     "outputs": [
      {
       "ename": "TypeError",
       "evalue": "get_xrefs_by_id() takes at least 2 arguments (1 given)",
       "output_type": "pyerr",
       "traceback": [
        "\u001b[1;31m---------------------------------------------------------------------------\u001b[0m\n\u001b[1;31mTypeError\u001b[0m                                 Traceback (most recent call last)",
        "\u001b[1;32m<ipython-input-52-a939ac6ace55>\u001b[0m in \u001b[0;36m<module>\u001b[1;34m()\u001b[0m\n\u001b[1;32m----> 1\u001b[1;33m \u001b[0mres\u001b[0m \u001b[1;33m=\u001b[0m \u001b[0me\u001b[0m\u001b[1;33m.\u001b[0m\u001b[0mget_xrefs_by_id\u001b[0m\u001b[1;33m(\u001b[0m\u001b[1;33m)\u001b[0m\u001b[1;33m\u001b[0m\u001b[0m\n\u001b[0m",
        "\u001b[1;31mTypeError\u001b[0m: get_xrefs_by_id() takes at least 2 arguments (1 given)"
       ]
      }
     ],
     "prompt_number": 52
    },
    {
     "cell_type": "heading",
     "level": 2,
     "metadata": {},
     "source": [
      "<a name=\"information\"></a>\n",
      "Information"
     ]
    },
    {
     "cell_type": "code",
     "collapsed": false,
     "input": [
      "e.get_info_ping()\n"
     ],
     "language": "python",
     "metadata": {},
     "outputs": [
      {
       "metadata": {},
       "output_type": "pyout",
       "prompt_number": 71,
       "text": [
        "{u'ping': 1}"
       ]
      }
     ],
     "prompt_number": 71
    },
    {
     "cell_type": "code",
     "collapsed": false,
     "input": [
      "e.get_info_rest()\n"
     ],
     "language": "python",
     "metadata": {},
     "outputs": [
      {
       "metadata": {},
       "output_type": "pyout",
       "prompt_number": 72,
       "text": [
        "{u'release': u'3.1.0'}"
       ]
      }
     ],
     "prompt_number": 72
    },
    {
     "cell_type": "code",
     "collapsed": false,
     "input": [
      "res = e.get_info_software()\n",
      "res"
     ],
     "language": "python",
     "metadata": {},
     "outputs": [
      {
       "metadata": {},
       "output_type": "pyout",
       "prompt_number": 61,
       "text": [
        "{u'release': 77}"
       ]
      }
     ],
     "prompt_number": 61
    },
    {
     "cell_type": "code",
     "collapsed": false,
     "input": [
      "res = e.get_info_species()\n",
      "[x['name'] for x in res]"
     ],
     "language": "python",
     "metadata": {},
     "outputs": [
      {
       "metadata": {},
       "output_type": "pyout",
       "prompt_number": 62,
       "text": [
        "[u'saccharomyces_cerevisiae',\n",
        " u'ciona_savignyi',\n",
        " u'myotis_lucifugus',\n",
        " u'taeniopygia_guttata',\n",
        " u'sorex_araneus',\n",
        " u'otolemur_garnettii',\n",
        " u'macropus_eugenii',\n",
        " u'erinaceus_europaeus',\n",
        " u'anolis_carolinensis',\n",
        " u'gadus_morhua',\n",
        " u'dasypus_novemcinctus',\n",
        " u'chlorocebus_sabaeus',\n",
        " u'tursiops_truncatus',\n",
        " u'mus_musculus',\n",
        " u'bos_taurus',\n",
        " u'monodelphis_domestica',\n",
        " u'choloepus_hoffmanni',\n",
        " u'sus_scrofa',\n",
        " u'rattus_norvegicus',\n",
        " u'caenorhabditis_elegans',\n",
        " u'pteropus_vampyrus',\n",
        " u'microcebus_murinus',\n",
        " u'sarcophilus_harrisii',\n",
        " u'ovis_aries',\n",
        " u'papio_anubis',\n",
        " u'pelodiscus_sinensis',\n",
        " u'equus_caballus',\n",
        " u'xiphophorus_maculatus',\n",
        " u'macaca_mulatta',\n",
        " u'astyanax_mexicanus',\n",
        " u'latimeria_chalumnae',\n",
        " u'ficedula_albicollis',\n",
        " u'gasterosteus_aculeatus',\n",
        " u'gorilla_gorilla',\n",
        " u'oryctolagus_cuniculus',\n",
        " u'oreochromis_niloticus',\n",
        " u'echinops_telfairi',\n",
        " u'nomascus_leucogenys',\n",
        " u'homo_sapiens',\n",
        " u'dipodomys_ordii',\n",
        " u'lepisosteus_oculatus',\n",
        " u'anas_platyrhynchos',\n",
        " u'canis_familiaris',\n",
        " u'callithrix_jacchus',\n",
        " u'pongo_abelii',\n",
        " u'ornithorhynchus_anatinus',\n",
        " u'tetraodon_nigroviridis',\n",
        " u'mustela_putorius_furo',\n",
        " u'tarsius_syrichta',\n",
        " u'vicugna_pacos',\n",
        " u'meleagris_gallopavo',\n",
        " u'xenopus_tropicalis',\n",
        " u'ictidomys_tridecemlineatus',\n",
        " u'cavia_porcellus',\n",
        " u'takifugu_rubripes',\n",
        " u'ochotona_princeps',\n",
        " u'pan_troglodytes',\n",
        " u'petromyzon_marinus',\n",
        " u'ailuropoda_melanoleuca',\n",
        " u'felis_catus',\n",
        " u'procavia_capensis',\n",
        " u'oryzias_latipes',\n",
        " u'danio_rerio',\n",
        " u'gallus_gallus',\n",
        " u'tupaia_belangeri',\n",
        " u'ciona_intestinalis',\n",
        " u'loxodonta_africana',\n",
        " u'poecilia_formosa',\n",
        " u'drosophila_melanogaster',\n",
        " u'Ancestral sequences']"
       ]
      }
     ],
     "prompt_number": 62
    },
    {
     "cell_type": "heading",
     "level": 3,
     "metadata": {},
     "source": [
      "Sequence"
     ]
    },
    {
     "cell_type": "heading",
     "level": 4,
     "metadata": {},
     "source": [
      "Get a sequence"
     ]
    },
    {
     "cell_type": "code",
     "collapsed": false,
     "input": [
      "sequence = e.get_sequence('ENSG00000157764', frmt='text')\n",
      "print(sequence[0:60])"
     ],
     "language": "python",
     "metadata": {},
     "outputs": [
      {
       "output_type": "stream",
       "stream": "stdout",
       "text": [
        "CGCCTCCCTTCCCCCTCCCCGCCCGACAGCGGCCGCTCGGGCCCCGGCTCTCGGTTATAA\n"
       ]
      }
     ],
     "prompt_number": 16
    },
    {
     "cell_type": "heading",
     "level": 3,
     "metadata": {},
     "source": [
      "Variation"
     ]
    },
    {
     "cell_type": "code",
     "collapsed": false,
     "input": [
      "e.get_variation"
     ],
     "language": "python",
     "metadata": {},
     "outputs": [
      {
       "metadata": {},
       "output_type": "pyout",
       "prompt_number": 17,
       "text": [
        "<bound method Ensembl.get_variation of <bioservices.ensembl.Ensembl object at 0x4816710>>"
       ]
      }
     ],
     "prompt_number": 17
    },
    {
     "cell_type": "heading",
     "level": 2,
     "metadata": {},
     "source": [
      "Lookup"
     ]
    },
    {
     "cell_type": "code",
     "collapsed": false,
     "input": [
      "res = e.get_lookup_by_id('ENSG00000157764', expand=True)\n",
      "res.keys()"
     ],
     "language": "python",
     "metadata": {},
     "outputs": [
      {
       "metadata": {},
       "output_type": "pyout",
       "prompt_number": 18,
       "text": [
        "[u'assembly_name',\n",
        " u'display_name',\n",
        " u'description',\n",
        " u'seq_region_name',\n",
        " u'logic_name',\n",
        " u'object_type',\n",
        " u'start',\n",
        " u'id',\n",
        " u'source',\n",
        " u'db_type',\n",
        " u'biotype',\n",
        " u'end',\n",
        " u'Transcript',\n",
        " u'species',\n",
        " u'strand']"
       ]
      }
     ],
     "prompt_number": 18
    },
    {
     "cell_type": "code",
     "collapsed": false,
     "input": [
      "res = e.post_lookup_by_id([\"ENSG00000157764\", \"ENSG00000248378\" ], expand=0)\n",
      "res['ENSG00000157764']\n"
     ],
     "language": "python",
     "metadata": {},
     "outputs": [
      {
       "metadata": {},
       "output_type": "pyout",
       "prompt_number": 27,
       "text": [
        "{u'assembly_name': u'GRCh38',\n",
        " u'biotype': u'protein_coding',\n",
        " u'db_type': u'core',\n",
        " u'description': u'B-Raf proto-oncogene, serine/threonine kinase [Source:HGNC Symbol;Acc:HGNC:1097]',\n",
        " u'display_name': u'BRAF',\n",
        " u'end': 140924764,\n",
        " u'id': u'ENSG00000157764',\n",
        " u'logic_name': u'ensembl_havana_gene',\n",
        " u'object_type': u'Gene',\n",
        " u'seq_region_name': u'7',\n",
        " u'source': u'ensembl_havana',\n",
        " u'species': u'homo_sapiens',\n",
        " u'start': 140719327,\n",
        " u'strand': -1}"
       ]
      }
     ],
     "prompt_number": 27
    },
    {
     "cell_type": "code",
     "collapsed": false,
     "input": [
      "res = e.get_lookup_by_symbol('homo_sapiens', 'BRCA2', expand=True)\n",
      "len(res['Transcript'])"
     ],
     "language": "python",
     "metadata": {},
     "outputs": [
      {
       "metadata": {},
       "output_type": "pyout",
       "prompt_number": 35,
       "text": [
        "7"
       ]
      }
     ],
     "prompt_number": 35
    },
    {
     "cell_type": "code",
     "collapsed": false,
     "input": [
      "res = e.post_lookup_by_symbol('human', [\"BRCA2\", \"BRAF\" ], expand=True)\n",
      "len(res['BRCA2']['Transcript'])"
     ],
     "language": "python",
     "metadata": {},
     "outputs": [
      {
       "metadata": {},
       "output_type": "pyout",
       "prompt_number": 48,
       "text": [
        "7"
       ]
      }
     ],
     "prompt_number": 48
    },
    {
     "cell_type": "heading",
     "level": 2,
     "metadata": {},
     "source": [
      "Mapping"
     ]
    },
    {
     "cell_type": "markdown",
     "metadata": {},
     "source": [
      "\tDescription\n",
      "- Convert from cDNA coordinates to genomic coordinates. Output reflects forward orientation coordinates as returned from the Ensembl API.\n",
      "- GET map/cds/:id/:region \tConvert from CDS coordinates to genomic coordinates. Output reflects forward orientation coordinates as returned from the Ensembl API.\n",
      "- GET map/:species/:asm_one/:region/:asm_two \tConvert the co-ordinates of one assembly to another\n",
      "- GET map/translation/:id/:region \tConvert from protein (translation) coordinates to genomic coordinates. Output reflects forward orientation coordinates as returned from the Ensembl "
     ]
    },
    {
     "cell_type": "code",
     "collapsed": false,
     "input": [
      "# the commented statement does not work\n",
      "# res = e.get_map_assembly_one_to_two('GRCh37', 'NCBI36', region='X:10000000..1000100:1', species='human')\n",
      "res = e.get_map_assembly_one_to_two('GRCh37', 'GRCh38', region='X:1000000..1000100:1')\n",
      "res"
     ],
     "language": "python",
     "metadata": {},
     "outputs": [
      {
       "metadata": {},
       "output_type": "pyout",
       "prompt_number": 109,
       "text": [
        "{u'mappings': [{u'mapped': {u'assembly': u'GRCh38',\n",
        "    u'coordinate_system': u'chromosome',\n",
        "    u'end': 1039365,\n",
        "    u'seq_region_name': u'X',\n",
        "    u'start': 1039265,\n",
        "    u'strand': 1},\n",
        "   u'original': {u'assembly': u'GRCh37',\n",
        "    u'coordinate_system': u'chromosome',\n",
        "    u'end': 1000100,\n",
        "    u'seq_region_name': u'X',\n",
        "    u'start': 1000000,\n",
        "    u'strand': 1}}]}"
       ]
      }
     ],
     "prompt_number": 109
    },
    {
     "cell_type": "code",
     "collapsed": false,
     "input": [
      "res = e.get_map_translation_to_region('ENSP00000288602', '100..300')\n",
      "res['mappings'][0]  # bioservices API may change to res[0] to simpify the output ?"
     ],
     "language": "python",
     "metadata": {},
     "outputs": [
      {
       "metadata": {},
       "output_type": "pyout",
       "prompt_number": 110,
       "text": [
        "{u'assembly_name': u'GRCh38',\n",
        " u'coord_system': u'chromosome',\n",
        " u'end': 140834815,\n",
        " u'gap': 0,\n",
        " u'rank': 0,\n",
        " u'seq_region_name': u'7',\n",
        " u'start': 140834609,\n",
        " u'strand': -1}"
       ]
      }
     ],
     "prompt_number": 110
    },
    {
     "cell_type": "code",
     "collapsed": false,
     "input": [
      "res = e.get_map_cds_to_region('ENST00000288602', '1..1000')\n",
      "res['mappings'][0]"
     ],
     "language": "python",
     "metadata": {},
     "outputs": [
      {
       "metadata": {},
       "output_type": "pyout",
       "prompt_number": 111,
       "text": [
        "{u'assembly_name': u'GRCh38',\n",
        " u'coord_system': u'chromosome',\n",
        " u'end': 140924703,\n",
        " u'gap': 0,\n",
        " u'rank': 0,\n",
        " u'seq_region_name': u'7',\n",
        " u'start': 140924566,\n",
        " u'strand': -1}"
       ]
      }
     ],
     "prompt_number": 111
    },
    {
     "cell_type": "code",
     "collapsed": false,
     "input": [
      "res = e.get_map_cdna_to_region('ENST00000288602', '100..300')\n",
      "res['mappings'][0]"
     ],
     "language": "python",
     "metadata": {},
     "outputs": [
      {
       "metadata": {},
       "output_type": "pyout",
       "prompt_number": 99,
       "text": [
        "{u'assembly_name': u'GRCh38',\n",
        " u'coord_system': u'chromosome',\n",
        " u'end': 140924665,\n",
        " u'gap': 0,\n",
        " u'rank': 0,\n",
        " u'seq_region_name': u'7',\n",
        " u'start': 140924566,\n",
        " u'strand': -1}"
       ]
      }
     ],
     "prompt_number": 99
    },
    {
     "cell_type": "code",
     "collapsed": false,
     "input": [],
     "language": "python",
     "metadata": {},
     "outputs": []
    }
   ],
   "metadata": {}
  }
 ]
}