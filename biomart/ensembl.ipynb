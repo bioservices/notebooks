{
 "metadata": {
  "name": "",
  "signature": "sha256:ec0d4a213741155cc3b06c0ce4b6933ee6d7a3354d51889f05aaeb8998cc48a6"
 },
 "nbformat": 3,
 "nbformat_minor": 0,
 "worksheets": [
  {
   "cells": [
    {
     "cell_type": "heading",
     "level": 2,
     "metadata": {},
     "source": [
      "Using BioMart to query mapping identifiers between Ensembl and other databases"
     ]
    },
    {
     "cell_type": "markdown",
     "metadata": {},
     "source": [
      "**Motivation**: It seems to be a recurrent question on Ensembl website (http://www.ensembl.org/Help/Faq?id=125) so let us see how to solve the following question using BioServices:\n",
      "   \n",
      "\n",
      "    How do I convert IDs? I have ENSG... IDs and I would like HGNC symbols and EntrezGene IDs along with matching Affymetrix platform HC G110 probes."
     ]
    },
    {
     "cell_type": "markdown",
     "metadata": {},
     "source": [
      "The solution from Ensembl web page is to use BioMart. \n",
      "\n",
      "Using a list of ENSG symbols (e.g.,  ENSG00000162367 and ENSG00000187048). \n",
      "\n",
      "The instructions from the Ensembl web page is to use the BioMart web page as follows. We will enter \n",
      "in the list of genes and export IDs from multiple databases. You need to fill the input boxes:\n",
      "\n",
      "- Database: Ensembl genes \n",
      "- Dataset: Homo sapiens genes \n",
      "- Filters: GENE: ID list limit box: select as the header Ensembl Gene ID(s) and enter gene names.\n",
      "- Attributes: \n",
      "    - References, select HGNC symbol and EntrezGene ID. \n",
      "    - Scroll down to Microarray Attributes to select Affy HC G110. \n",
      "\n",
      "Here below, we will use the programmatic approach using BioServices"
     ]
    },
    {
     "cell_type": "markdown",
     "metadata": {},
     "source": [
      "##### See also\n",
      "- http://pythonhosted.org/bioservices/biomart.html for the biomart documentation inside bioservices\n",
      "- http://pythonhosted.org/bioservices/ for the documentation\n",
      "- http://github.com/cokelaer/bioservices/ for the code\n",
      "- http://github.com/bioservices/ for more notebooks\n",
      "\n"
     ]
    },
    {
     "cell_type": "code",
     "collapsed": false,
     "input": [
      "from bioservices import biomart\n",
      "#reload(biomart)"
     ],
     "language": "python",
     "metadata": {},
     "outputs": [],
     "prompt_number": 68
    },
    {
     "cell_type": "code",
     "collapsed": false,
     "input": [
      "s = biomart.BioMart()"
     ],
     "language": "python",
     "metadata": {},
     "outputs": [],
     "prompt_number": 41
    },
    {
     "cell_type": "code",
     "collapsed": false,
     "input": [
      "# First, we need to know the datasets of ensembl database\n",
      "# From the Ensembl web page, the database is \"Ensembl genes\" but it looks like \"ensembl\" is enough\n",
      "datasets = s.datasets(\"ensembl\")"
     ],
     "language": "python",
     "metadata": {},
     "outputs": [],
     "prompt_number": 42
    },
    {
     "cell_type": "code",
     "collapsed": false,
     "input": [
      "# From the list of datasets, the suggested name is \"Homo sapiens genes\"\n",
      "# Can we find it ?\n",
      "for d in datasets:\n",
      "    if 'sapiens' in d.lower():\n",
      "        print d"
     ],
     "language": "python",
     "metadata": {},
     "outputs": [
      {
       "output_type": "stream",
       "stream": "stdout",
       "text": [
        "hsapiens_gene_ensembl\n"
       ]
      }
     ],
     "prompt_number": 43
    },
    {
     "cell_type": "code",
     "collapsed": false,
     "input": [
      "# well again it  is a bit different from the web page suggestion but it should be that one we are interested in ;-)"
     ],
     "language": "python",
     "metadata": {},
     "outputs": [],
     "prompt_number": 44
    },
    {
     "cell_type": "code",
     "collapsed": false,
     "input": [
      "#What are the filters ?\n",
      "filters = s.filters('hsapiens_gene_ensembl')\n"
     ],
     "language": "python",
     "metadata": {},
     "outputs": [],
     "prompt_number": 45
    },
    {
     "cell_type": "markdown",
     "metadata": {},
     "source": [
      "filters is a dictionary with lots of keys such as **ensembl_gene_id**. Each filter has some values/options to be provided\n"
     ]
    },
    {
     "cell_type": "code",
     "collapsed": false,
     "input": [
      "filters['ensembl_gene_id']"
     ],
     "language": "python",
     "metadata": {},
     "outputs": [
      {
       "metadata": {},
       "output_type": "pyout",
       "prompt_number": 46,
       "text": [
        "[u'Ensembl Gene ID(s) [e.g. ENSG00000139618]',\n",
        " u'[]',\n",
        " u'Filter to include genes with supplied list of Ensembl Gene IDs',\n",
        " u'filters',\n",
        " u'id_list',\n",
        " u'=,in',\n",
        " u'hsapiens_gene_ensembl__gene__main',\n",
        " u'stable_id_1023']"
       ]
      }
     ],
     "prompt_number": 46
    },
    {
     "cell_type": "markdown",
     "metadata": {},
     "source": [
      "Similary attributes have to be provided. What are they ? Check out the content of attributes.keys()"
     ]
    },
    {
     "cell_type": "code",
     "collapsed": false,
     "input": [
      "attributes = s.attributes('hsapiens_gene_ensembl')"
     ],
     "language": "python",
     "metadata": {},
     "outputs": [],
     "prompt_number": 69
    },
    {
     "cell_type": "code",
     "collapsed": false,
     "input": [
      "# Let us first build the XML request\n",
      "# Note that the list of identifiers should be actually a string separated by commas\n",
      "s.new_query()\n",
      "s.add_dataset_to_xml('hsapiens_gene_ensembl')\n",
      "s.add_attribute_to_xml('affy_hc_g110')\n",
      "s.add_attribute_to_xml('entrezgene')\n",
      "s.add_attribute_to_xml('hgnc_symbol')\n",
      "s.add_attribute_to_xml('ensembl_gene_id')\n",
      "s.add_filter_to_xml('ensembl_gene_id', 'ENSG00000162367,ENSG00000187048')\n",
      "xml = s.get_xml()\n",
      "print xml\n",
      "\n"
     ],
     "language": "python",
     "metadata": {},
     "outputs": [
      {
       "output_type": "stream",
       "stream": "stdout",
       "text": [
        "<?xml version=\"1.0\" encoding=\"UTF-8\"?>\n",
        "<!DOCTYPE Query>\n",
        "<Query  virtualSchemaName = \"default\" formatter = \"TSV\"\n",
        "header = \"0\" uniqueRows = \"0\" count = \"\"\n",
        "datasetConfigVersion = \"0.6\" >\n",
        "    <Dataset name = \"hsapiens_gene_ensembl\" interface = \"default\" >\n",
        "\n",
        "        <Filter name = \"ensembl_gene_id\" value = \"ENSG00000162367,ENSG00000187048\"/>\n",
        "        <Attribute name = \"affy_hc_g110\" />\n",
        "        <Attribute name = \"entrezgene\" />\n",
        "        <Attribute name = \"hgnc_symbol\" />\n",
        "        <Attribute name = \"ensembl_gene_id\" />\n",
        "    </Dataset>\n",
        "</Query>\n"
       ]
      }
     ],
     "prompt_number": 70
    },
    {
     "cell_type": "code",
     "collapsed": false,
     "input": [
      "# now we call the requests itself\n",
      "res = s.query(xml)\n",
      "print res"
     ],
     "language": "python",
     "metadata": {},
     "outputs": [
      {
       "output_type": "stream",
       "stream": "stdout",
       "text": [
        "560_s_at\t6886\tTAL1\tENSG00000162367\n",
        "560_s_at\t6886\tTAL1\tENSG00000162367\n",
        "\t6886\tTAL1\tENSG00000162367\n",
        "\t6886\tTAL1\tENSG00000162367\n",
        "\t6886\tTAL1\tENSG00000162367\n",
        "\t6886\tTAL1\tENSG00000162367\n",
        "1391_s_at\t1579\tCYP4A11\tENSG00000187048\n",
        "1391_s_at\t1579\tCYP4A11\tENSG00000187048\n",
        "1391_s_at\t1579\tCYP4A11\tENSG00000187048\n",
        "\t1579\tCYP4A11\tENSG00000187048\n",
        "\t1579\tCYP4A11\tENSG00000187048\n",
        "\t1579\tCYP4A11\tENSG00000187048\n",
        "\t1579\tCYP4A11\tENSG00000187048\n",
        "\t1579\tCYP4A11\tENSG00000187048\n",
        "\t1579\tCYP4A11\tENSG00000187048\n",
        "\n"
       ]
      }
     ],
     "prompt_number": 71
    },
    {
     "cell_type": "code",
     "collapsed": false,
     "input": [
      "# We can parse the results using Pandas to have a better rendering and more convenient way of handling the data\n",
      "import pandas as pd\n",
      "import StringIO\n",
      "df = pd.read_csv(StringIO.StringIO(res), sep=\"\\t\", header=None)\n",
      "df.columns=['affyhc_g110', 'entrezgene', 'hgnc_symbol', 'ensembl_gene_id']\n",
      "df = df.drop_duplicates()\n",
      "df = df.set_index('ensembl_gene_id')\n",
      "# df.ix['ENSG00000162367']['hgnc_symbol']\n",
      "df"
     ],
     "language": "python",
     "metadata": {},
     "outputs": [
      {
       "html": [
        "<div style=\"max-height:1000px;max-width:1500px;overflow:auto;\">\n",
        "<table border=\"1\" class=\"dataframe\">\n",
        "  <thead>\n",
        "    <tr style=\"text-align: right;\">\n",
        "      <th></th>\n",
        "      <th>affyhc_g110</th>\n",
        "      <th>entrezgene</th>\n",
        "      <th>hgnc_symbol</th>\n",
        "    </tr>\n",
        "    <tr>\n",
        "      <th>ensembl_gene_id</th>\n",
        "      <th></th>\n",
        "      <th></th>\n",
        "      <th></th>\n",
        "    </tr>\n",
        "  </thead>\n",
        "  <tbody>\n",
        "    <tr>\n",
        "      <th>ENSG00000162367</th>\n",
        "      <td>  560_s_at</td>\n",
        "      <td> 6886</td>\n",
        "      <td>    TAL1</td>\n",
        "    </tr>\n",
        "    <tr>\n",
        "      <th>ENSG00000162367</th>\n",
        "      <td>       NaN</td>\n",
        "      <td> 6886</td>\n",
        "      <td>    TAL1</td>\n",
        "    </tr>\n",
        "    <tr>\n",
        "      <th>ENSG00000187048</th>\n",
        "      <td> 1391_s_at</td>\n",
        "      <td> 1579</td>\n",
        "      <td> CYP4A11</td>\n",
        "    </tr>\n",
        "    <tr>\n",
        "      <th>ENSG00000187048</th>\n",
        "      <td>       NaN</td>\n",
        "      <td> 1579</td>\n",
        "      <td> CYP4A11</td>\n",
        "    </tr>\n",
        "  </tbody>\n",
        "</table>\n",
        "</div>"
       ],
       "metadata": {},
       "output_type": "pyout",
       "prompt_number": 101,
       "text": [
        "                affyhc_g110  entrezgene hgnc_symbol\n",
        "ensembl_gene_id                                    \n",
        "ENSG00000162367    560_s_at        6886        TAL1\n",
        "ENSG00000162367         NaN        6886        TAL1\n",
        "ENSG00000187048   1391_s_at        1579     CYP4A11\n",
        "ENSG00000187048         NaN        1579     CYP4A11"
       ]
      }
     ],
     "prompt_number": 101
    },
    {
     "cell_type": "code",
     "collapsed": false,
     "input": [],
     "language": "python",
     "metadata": {},
     "outputs": []
    }
   ],
   "metadata": {}
  }
 ]
}