{
 "metadata": {
  "name": "",
  "signature": "sha256:dd0cff183dde7d204bb7f475b4071372070db17591d183ac3ae76a01eae806de"
 },
 "nbformat": 3,
 "nbformat_minor": 0,
 "worksheets": [
  {
   "cells": [
    {
     "cell_type": "heading",
     "level": 2,
     "metadata": {},
     "source": [
      "BioServices introduction"
     ]
    },
    {
     "cell_type": "markdown",
     "metadata": {},
     "source": [
      "**Bioservices** is a Python package that provides access to many Bioinformatices Web Services (e.g.,\n",
      "UniProt) and a framework to easily implement Web Services wrappers (based on \n",
      "WSDL/SOAP or REST protocols).\n"
     ]
    },
    {
     "cell_type": "code",
     "collapsed": false,
     "input": [
      "from bioservices import *\n",
      "import bioservices\n",
      "%pylab inline"
     ],
     "language": "python",
     "metadata": {},
     "outputs": [
      {
       "output_type": "stream",
       "stream": "stdout",
       "text": [
        "Populating the interactive namespace from numpy and matplotlib\n"
       ]
      }
     ],
     "prompt_number": 2
    },
    {
     "cell_type": "heading",
     "level": 3,
     "metadata": {},
     "source": [
      "uniprot"
     ]
    },
    {
     "cell_type": "code",
     "collapsed": false,
     "input": [
      "u = UniProt()"
     ],
     "language": "python",
     "metadata": {},
     "outputs": [],
     "prompt_number": 4
    },
    {
     "cell_type": "code",
     "collapsed": false,
     "input": [
      "u.get_fasta(\"P43403\")"
     ],
     "language": "python",
     "metadata": {},
     "outputs": [
      {
       "metadata": {},
       "output_type": "pyout",
       "prompt_number": 5,
       "text": [
        "u'>sp|P43403|ZAP70_HUMAN Tyrosine-protein kinase ZAP-70 OS=Homo sapiens GN=ZAP70 PE=1 SV=1\\nMPDPAAHLPFFYGSISRAEAEEHLKLAGMADGLFLLRQCLRSLGGYVLSLVHDVRFHHFP\\nIERQLNGTYAIAGGKAHCGPAELCEFYSRDPDGLPCNLRKPCNRPSGLEPQPGVFDCLRD\\nAMVRDYVRQTWKLEGEALEQAIISQAPQVEKLIATTAHERMPWYHSSLTREEAERKLYSG\\nAQTDGKFLLRPRKEQGTYALSLIYGKTVYHYLISQDKAGKYCIPEGTKFDTLWQLVEYLK\\nLKADGLIYCLKEACPNSSASNASGAAAPTLPAHPSTLTHPQRRIDTLNSDGYTPEPARIT\\nSPDKPRPMPMDTSVYESPYSDPEELKDKKLFLKRDNLLIADIELGCGNFGSVRQGVYRMR\\nKKQIDVAIKVLKQGTEKADTEEMMREAQIMHQLDNPYIVRLIGVCQAEALMLVMEMAGGG\\nPLHKFLVGKREEIPVSNVAELLHQVSMGMKYLEEKNFVHRDLAARNVLLVNRHYAKISDF\\nGLSKALGADDSYYTARSAGKWPLKWYAPECINFRKFSSRSDVWSYGVTMWEALSYGQKPY\\nKKMKGPEVMAFIEQGKRMECPPECPPELYALMSDCWIYKWEDRPDFLTVEQRMRACYYSL\\nASKVEGPPGSTQKAEAACA\\n'"
       ]
      }
     ],
     "prompt_number": 5
    },
    {
     "cell_type": "code",
     "collapsed": false,
     "input": [
      "print u.search(\"ZAP70 and taxonomy:human\", limit=5)"
     ],
     "language": "python",
     "metadata": {},
     "outputs": [
      {
       "output_type": "stream",
       "stream": "stdout",
       "text": [
        "Entry\tEntry name\tStatus\tProtein names\tGene names\tOrganism\tLength\n",
        "P43403\tZAP70_HUMAN\treviewed\tTyrosine-protein kinase ZAP-70 (EC 2.7.10.2) (70 kDa zeta-chain associated protein) (Syk-related tyrosine kinase)\tZAP70 SRK\tHomo sapiens (Human)\t619\n",
        "B4E0E2\tB4E0E2_HUMAN\tunreviewed\tcDNA FLJ60205, highly similar to Tyrosine-protein kinase ZAP-70 (EC 2.7.10.2)\t\tHomo sapiens (Human)\t185\n",
        "Q15669\tRHOH_HUMAN\treviewed\tRho-related GTP-binding protein RhoH (GTP-binding protein TTF) (Translocation three four protein)\tRHOH ARHH TTF\tHomo sapiens (Human)\t191\n",
        "P22681\tCBL_HUMAN\treviewed\tE3 ubiquitin-protein ligase CBL (EC 6.3.2.-) (Casitas B-lineage lymphoma proto-oncogene) (Proto-oncogene c-Cbl) (RING finger protein 55) (Signal transduction protein CBL)\tCBL CBL2 RNF55\tHomo sapiens (Human)\t906\n",
        "P06239\tLCK_HUMAN\treviewed\tTyrosine-protein kinase Lck (EC 2.7.10.2) (Leukocyte C-terminal Src kinase) (LSK) (Lymphocyte cell-specific protein-tyrosine kinase) (Protein YT16) (Proto-oncogene Lck) (T cell-specific protein-tyrosine kinase) (p56-LCK)\tLCK\tHomo sapiens (Human)\t509\n",
        "\n"
       ]
      }
     ],
     "prompt_number": 14
    },
    {
     "cell_type": "code",
     "collapsed": false,
     "input": [
      "df = u.get_df(\"P43403\")\n",
      "df"
     ],
     "language": "python",
     "metadata": {},
     "outputs": [
      {
       "html": [
        "<div style=\"max-height:1000px;max-width:1500px;overflow:auto;\">\n",
        "<table border=\"1\" class=\"dataframe\">\n",
        "  <thead>\n",
        "    <tr style=\"text-align: right;\">\n",
        "      <th></th>\n",
        "      <th>PubMed ID</th>\n",
        "      <th>Comments</th>\n",
        "      <th>Cross-reference</th>\n",
        "      <th>Domains</th>\n",
        "      <th>Domain count</th>\n",
        "      <th>EC number</th>\n",
        "      <th>Entry</th>\n",
        "      <th>Entry name</th>\n",
        "      <th>Protein existence</th>\n",
        "      <th>Protein families</th>\n",
        "      <th>...</th>\n",
        "      <th>Length</th>\n",
        "      <th>Organism</th>\n",
        "      <th>Organism ID</th>\n",
        "      <th>Pathway</th>\n",
        "      <th>Protein names</th>\n",
        "      <th>Status</th>\n",
        "      <th>Sequence</th>\n",
        "      <th>3D</th>\n",
        "      <th>Version</th>\n",
        "      <th>Virus hosts</th>\n",
        "    </tr>\n",
        "  </thead>\n",
        "  <tbody>\n",
        "    <tr>\n",
        "      <th>0</th>\n",
        "      <td> [1423621, 14985102, 15815621, 15489334, 812472...</td>\n",
        "      <td> [Alternative products (1), Catalytic activity ...</td>\n",
        "      <td>NaN</td>\n",
        "      <td>      [Protein kinase domain (1), SH2 domains (2)]</td>\n",
        "      <td> 0</td>\n",
        "      <td> 2.7.10.2</td>\n",
        "      <td> P43403</td>\n",
        "      <td> ZAP70_HUMAN</td>\n",
        "      <td> Evidence at protein level</td>\n",
        "      <td> [Protein kinase superfamily, Tyr protein kinas...</td>\n",
        "      <td>...</td>\n",
        "      <td>  619</td>\n",
        "      <td> Homo sapiens (Human)</td>\n",
        "      <td>  9606</td>\n",
        "      <td>NaN</td>\n",
        "      <td> Tyrosine-protein kinase ZAP-70 (EC 2.7.10.2) (...</td>\n",
        "      <td> reviewed</td>\n",
        "      <td> MPDPAAHLPFFYGSISRAEAEEHLKLAGMADGLFLLRQCLRSLGGY...</td>\n",
        "      <td>                        X-ray crystallography (11)</td>\n",
        "      <td> 175</td>\n",
        "      <td>NaN</td>\n",
        "    </tr>\n",
        "    <tr>\n",
        "      <th>1</th>\n",
        "      <td> [3012357, 3267235, 14702039, 15489334, 8490660...</td>\n",
        "      <td> [Function (1), Involvement in disease (1), Seq...</td>\n",
        "      <td>NaN</td>\n",
        "      <td> [Ig-like (immunoglobulin-like) domain (1), ITA...</td>\n",
        "      <td> 0</td>\n",
        "      <td>      NaN</td>\n",
        "      <td> P07766</td>\n",
        "      <td>  CD3E_HUMAN</td>\n",
        "      <td> Evidence at protein level</td>\n",
        "      <td>                                                []</td>\n",
        "      <td>...</td>\n",
        "      <td>  207</td>\n",
        "      <td> Homo sapiens (Human)</td>\n",
        "      <td>  9606</td>\n",
        "      <td>NaN</td>\n",
        "      <td> T-cell surface glycoprotein CD3 epsilon chain ...</td>\n",
        "      <td> reviewed</td>\n",
        "      <td> MQSGTHWRVLGLCLLSVGVWGQDGNEEMGGITQTPYKVSISGTTVI...</td>\n",
        "      <td>   NMR spectroscopy (1); X-ray crystallography (3)</td>\n",
        "      <td> 164</td>\n",
        "      <td>NaN</td>\n",
        "    </tr>\n",
        "    <tr>\n",
        "      <th>2</th>\n",
        "      <td> [16141072, 15489334, 12370296, 14738763, 19733...</td>\n",
        "      <td> [Alternative products (1), Catalytic activity ...</td>\n",
        "      <td>NaN</td>\n",
        "      <td>                  [SH3 domain (1), UBA domain (1)]</td>\n",
        "      <td> 0</td>\n",
        "      <td> 3.1.3.48</td>\n",
        "      <td> Q8BGG7</td>\n",
        "      <td> UBS3B_MOUSE</td>\n",
        "      <td> Evidence at protein level</td>\n",
        "      <td>                                                []</td>\n",
        "      <td>...</td>\n",
        "      <td>  638</td>\n",
        "      <td> Mus musculus (Mouse)</td>\n",
        "      <td> 10090</td>\n",
        "      <td>NaN</td>\n",
        "      <td> Ubiquitin-associated and SH3 domain-containing...</td>\n",
        "      <td> reviewed</td>\n",
        "      <td> MAAREELYSKVTPRRDRLQRPGTVKHGSALDVLLSMGFPRARAQKA...</td>\n",
        "      <td>                         X-ray crystallography (3)</td>\n",
        "      <td> 101</td>\n",
        "      <td>NaN</td>\n",
        "    </tr>\n",
        "    <tr>\n",
        "      <th>3</th>\n",
        "      <td> [2974162, 14702039, 16710414, 15489334, 981171...</td>\n",
        "      <td> [Alternative products (1), Domain (1), Functio...</td>\n",
        "      <td>NaN</td>\n",
        "      <td>                                [ITAM domains (3)]</td>\n",
        "      <td> 0</td>\n",
        "      <td>      NaN</td>\n",
        "      <td> P20963</td>\n",
        "      <td>  CD3Z_HUMAN</td>\n",
        "      <td> Evidence at protein level</td>\n",
        "      <td>                              [CD3Z/FCER1G family]</td>\n",
        "      <td>...</td>\n",
        "      <td>  164</td>\n",
        "      <td> Homo sapiens (Human)</td>\n",
        "      <td>  9606</td>\n",
        "      <td>NaN</td>\n",
        "      <td> T-cell surface glycoprotein CD3 zeta chain (T-...</td>\n",
        "      <td> reviewed</td>\n",
        "      <td> MKWKALFTAAILQAQLPITEAQSFGLLDPKLCYLLDGILFIYGVIL...</td>\n",
        "      <td>   NMR spectroscopy (2); X-ray crystallography (4)</td>\n",
        "      <td> 162</td>\n",
        "      <td>NaN</td>\n",
        "    </tr>\n",
        "    <tr>\n",
        "      <th>4</th>\n",
        "      <td> [10068674, 21044313, 14702039, 16710414, 15489...</td>\n",
        "      <td> [Alternative products (1), Catalytic activity ...</td>\n",
        "      <td>NaN</td>\n",
        "      <td>         [Tyrosine-protein phosphatase domain (1)]</td>\n",
        "      <td> 0</td>\n",
        "      <td> 3.1.3.48</td>\n",
        "      <td> Q9Y2R2</td>\n",
        "      <td> PTN22_HUMAN</td>\n",
        "      <td> Evidence at protein level</td>\n",
        "      <td> [Protein-tyrosine phosphatase family, Non-rece...</td>\n",
        "      <td>...</td>\n",
        "      <td>  807</td>\n",
        "      <td> Homo sapiens (Human)</td>\n",
        "      <td>  9606</td>\n",
        "      <td>NaN</td>\n",
        "      <td> Tyrosine-protein phosphatase non-receptor type...</td>\n",
        "      <td> reviewed</td>\n",
        "      <td> MDQREILQKFLDEAQSKKITKEEFANEFLKLKRQSTKYKADKTYPT...</td>\n",
        "      <td>                         X-ray crystallography (8)</td>\n",
        "      <td> 130</td>\n",
        "      <td>NaN</td>\n",
        "    </tr>\n",
        "    <tr>\n",
        "      <th>5</th>\n",
        "      <td> [3493153, 3265417, 2558056, 8139546, 7495859, ...</td>\n",
        "      <td> [Alternative products (1), Catalytic activity ...</td>\n",
        "      <td>NaN</td>\n",
        "      <td> [Protein kinase domain (1), SH2 domain (1), SH...</td>\n",
        "      <td> 0</td>\n",
        "      <td> 2.7.10.2</td>\n",
        "      <td> P06239</td>\n",
        "      <td>   LCK_HUMAN</td>\n",
        "      <td> Evidence at protein level</td>\n",
        "      <td> [Protein kinase superfamily, Tyr protein kinas...</td>\n",
        "      <td>...</td>\n",
        "      <td>  509</td>\n",
        "      <td> Homo sapiens (Human)</td>\n",
        "      <td>  9606</td>\n",
        "      <td>NaN</td>\n",
        "      <td> Tyrosine-protein kinase Lck (EC 2.7.10.2) (Leu...</td>\n",
        "      <td> reviewed</td>\n",
        "      <td> MGCGCSSHPEDDWMENIDVCENCHYPIVPLDGKGTLLIRNGSEVRD...</td>\n",
        "      <td>  NMR spectroscopy (4); X-ray crystallography (48)</td>\n",
        "      <td> 201</td>\n",
        "      <td>NaN</td>\n",
        "    </tr>\n",
        "    <tr>\n",
        "      <th>6</th>\n",
        "      <td> [2448137, 1279499, 9027509, 18593464, 20658618...</td>\n",
        "      <td> [Alternative products (1), Catalytic activity ...</td>\n",
        "      <td>NaN</td>\n",
        "      <td> [Ig-like C2-type (immunoglobulin-like) domains...</td>\n",
        "      <td> 0</td>\n",
        "      <td> 2.7.10.1</td>\n",
        "      <td> P10721</td>\n",
        "      <td>   KIT_HUMAN</td>\n",
        "      <td> Evidence at protein level</td>\n",
        "      <td> [Protein kinase superfamily, Tyr protein kinas...</td>\n",
        "      <td>...</td>\n",
        "      <td>  976</td>\n",
        "      <td> Homo sapiens (Human)</td>\n",
        "      <td>  9606</td>\n",
        "      <td>NaN</td>\n",
        "      <td> Mast/stem cell growth factor receptor Kit (SCF...</td>\n",
        "      <td> reviewed</td>\n",
        "      <td> MRGARGAWDFLCVLLLLLRVQTGSSQPSVSPGEPSPPSIHPGKSDL...</td>\n",
        "      <td>             X-ray crystallography (11); Model (3)</td>\n",
        "      <td> 182</td>\n",
        "      <td>NaN</td>\n",
        "    </tr>\n",
        "    <tr>\n",
        "      <th>7</th>\n",
        "      <td> [2819873, 18593464, 12853948, 12690205, 154893...</td>\n",
        "      <td> [Alternative products (1), Catalytic activity ...</td>\n",
        "      <td>NaN</td>\n",
        "      <td> [IPT/TIG domains (3), Protein kinase domain (1...</td>\n",
        "      <td> 0</td>\n",
        "      <td> 2.7.10.1</td>\n",
        "      <td> P08581</td>\n",
        "      <td>   MET_HUMAN</td>\n",
        "      <td> Evidence at protein level</td>\n",
        "      <td> [Protein kinase superfamily, Tyr protein kinas...</td>\n",
        "      <td>...</td>\n",
        "      <td> 1390</td>\n",
        "      <td> Homo sapiens (Human)</td>\n",
        "      <td>  9606</td>\n",
        "      <td>NaN</td>\n",
        "      <td> Hepatocyte growth factor receptor (HGF recepto...</td>\n",
        "      <td> reviewed</td>\n",
        "      <td> MKAPAVLAPGILVLLFTLVQRSNGECKEALAKSEMNVNMKYQLPNF...</td>\n",
        "      <td> NMR spectroscopy (1); X-ray crystallography (5...</td>\n",
        "      <td> 199</td>\n",
        "      <td>NaN</td>\n",
        "    </tr>\n",
        "  </tbody>\n",
        "</table>\n",
        "<p>8 rows \u00d7 28 columns</p>\n",
        "</div>"
       ],
       "metadata": {},
       "output_type": "pyout",
       "prompt_number": 18,
       "text": [
        "                                           PubMed ID  \\\n",
        "0  [1423621, 14985102, 15815621, 15489334, 812472...   \n",
        "1  [3012357, 3267235, 14702039, 15489334, 8490660...   \n",
        "2  [16141072, 15489334, 12370296, 14738763, 19733...   \n",
        "3  [2974162, 14702039, 16710414, 15489334, 981171...   \n",
        "4  [10068674, 21044313, 14702039, 16710414, 15489...   \n",
        "5  [3493153, 3265417, 2558056, 8139546, 7495859, ...   \n",
        "6  [2448137, 1279499, 9027509, 18593464, 20658618...   \n",
        "7  [2819873, 18593464, 12853948, 12690205, 154893...   \n",
        "\n",
        "                                            Comments  Cross-reference  \\\n",
        "0  [Alternative products (1), Catalytic activity ...              NaN   \n",
        "1  [Function (1), Involvement in disease (1), Seq...              NaN   \n",
        "2  [Alternative products (1), Catalytic activity ...              NaN   \n",
        "3  [Alternative products (1), Domain (1), Functio...              NaN   \n",
        "4  [Alternative products (1), Catalytic activity ...              NaN   \n",
        "5  [Alternative products (1), Catalytic activity ...              NaN   \n",
        "6  [Alternative products (1), Catalytic activity ...              NaN   \n",
        "7  [Alternative products (1), Catalytic activity ...              NaN   \n",
        "\n",
        "                                             Domains  Domain count EC number  \\\n",
        "0       [Protein kinase domain (1), SH2 domains (2)]             0  2.7.10.2   \n",
        "1  [Ig-like (immunoglobulin-like) domain (1), ITA...             0       NaN   \n",
        "2                   [SH3 domain (1), UBA domain (1)]             0  3.1.3.48   \n",
        "3                                 [ITAM domains (3)]             0       NaN   \n",
        "4          [Tyrosine-protein phosphatase domain (1)]             0  3.1.3.48   \n",
        "5  [Protein kinase domain (1), SH2 domain (1), SH...             0  2.7.10.2   \n",
        "6  [Ig-like C2-type (immunoglobulin-like) domains...             0  2.7.10.1   \n",
        "7  [IPT/TIG domains (3), Protein kinase domain (1...             0  2.7.10.1   \n",
        "\n",
        "    Entry   Entry name          Protein existence  \\\n",
        "0  P43403  ZAP70_HUMAN  Evidence at protein level   \n",
        "1  P07766   CD3E_HUMAN  Evidence at protein level   \n",
        "2  Q8BGG7  UBS3B_MOUSE  Evidence at protein level   \n",
        "3  P20963   CD3Z_HUMAN  Evidence at protein level   \n",
        "4  Q9Y2R2  PTN22_HUMAN  Evidence at protein level   \n",
        "5  P06239    LCK_HUMAN  Evidence at protein level   \n",
        "6  P10721    KIT_HUMAN  Evidence at protein level   \n",
        "7  P08581    MET_HUMAN  Evidence at protein level   \n",
        "\n",
        "                                    Protein families  \\\n",
        "0  [Protein kinase superfamily, Tyr protein kinas...   \n",
        "1                                                 []   \n",
        "2                                                 []   \n",
        "3                               [CD3Z/FCER1G family]   \n",
        "4  [Protein-tyrosine phosphatase family, Non-rece...   \n",
        "5  [Protein kinase superfamily, Tyr protein kinas...   \n",
        "6  [Protein kinase superfamily, Tyr protein kinas...   \n",
        "7  [Protein kinase superfamily, Tyr protein kinas...   \n",
        "\n",
        "                         ...                         Length  \\\n",
        "0                        ...                            619   \n",
        "1                        ...                            207   \n",
        "2                        ...                            638   \n",
        "3                        ...                            164   \n",
        "4                        ...                            807   \n",
        "5                        ...                            509   \n",
        "6                        ...                            976   \n",
        "7                        ...                           1390   \n",
        "\n",
        "               Organism Organism ID Pathway  \\\n",
        "0  Homo sapiens (Human)        9606     NaN   \n",
        "1  Homo sapiens (Human)        9606     NaN   \n",
        "2  Mus musculus (Mouse)       10090     NaN   \n",
        "3  Homo sapiens (Human)        9606     NaN   \n",
        "4  Homo sapiens (Human)        9606     NaN   \n",
        "5  Homo sapiens (Human)        9606     NaN   \n",
        "6  Homo sapiens (Human)        9606     NaN   \n",
        "7  Homo sapiens (Human)        9606     NaN   \n",
        "\n",
        "                                       Protein names    Status  \\\n",
        "0  Tyrosine-protein kinase ZAP-70 (EC 2.7.10.2) (...  reviewed   \n",
        "1  T-cell surface glycoprotein CD3 epsilon chain ...  reviewed   \n",
        "2  Ubiquitin-associated and SH3 domain-containing...  reviewed   \n",
        "3  T-cell surface glycoprotein CD3 zeta chain (T-...  reviewed   \n",
        "4  Tyrosine-protein phosphatase non-receptor type...  reviewed   \n",
        "5  Tyrosine-protein kinase Lck (EC 2.7.10.2) (Leu...  reviewed   \n",
        "6  Mast/stem cell growth factor receptor Kit (SCF...  reviewed   \n",
        "7  Hepatocyte growth factor receptor (HGF recepto...  reviewed   \n",
        "\n",
        "                                            Sequence  \\\n",
        "0  MPDPAAHLPFFYGSISRAEAEEHLKLAGMADGLFLLRQCLRSLGGY...   \n",
        "1  MQSGTHWRVLGLCLLSVGVWGQDGNEEMGGITQTPYKVSISGTTVI...   \n",
        "2  MAAREELYSKVTPRRDRLQRPGTVKHGSALDVLLSMGFPRARAQKA...   \n",
        "3  MKWKALFTAAILQAQLPITEAQSFGLLDPKLCYLLDGILFIYGVIL...   \n",
        "4  MDQREILQKFLDEAQSKKITKEEFANEFLKLKRQSTKYKADKTYPT...   \n",
        "5  MGCGCSSHPEDDWMENIDVCENCHYPIVPLDGKGTLLIRNGSEVRD...   \n",
        "6  MRGARGAWDFLCVLLLLLRVQTGSSQPSVSPGEPSPPSIHPGKSDL...   \n",
        "7  MKAPAVLAPGILVLLFTLVQRSNGECKEALAKSEMNVNMKYQLPNF...   \n",
        "\n",
        "                                                  3D  Version Virus hosts  \n",
        "0                         X-ray crystallography (11)      175         NaN  \n",
        "1    NMR spectroscopy (1); X-ray crystallography (3)      164         NaN  \n",
        "2                          X-ray crystallography (3)      101         NaN  \n",
        "3    NMR spectroscopy (2); X-ray crystallography (4)      162         NaN  \n",
        "4                          X-ray crystallography (8)      130         NaN  \n",
        "5   NMR spectroscopy (4); X-ray crystallography (48)      201         NaN  \n",
        "6              X-ray crystallography (11); Model (3)      182         NaN  \n",
        "7  NMR spectroscopy (1); X-ray crystallography (5...      199         NaN  \n",
        "\n",
        "[8 rows x 28 columns]"
       ]
      }
     ],
     "prompt_number": 18
    },
    {
     "cell_type": "heading",
     "level": 3,
     "metadata": {},
     "source": [
      "Ensembl"
     ]
    },
    {
     "cell_type": "code",
     "collapsed": false,
     "input": [
      "s = Ensembl()"
     ],
     "language": "python",
     "metadata": {},
     "outputs": [],
     "prompt_number": 19
    },
    {
     "cell_type": "code",
     "collapsed": false,
     "input": [
      "res = s.get_lookup_by_id('ENSG00000157764', expand=True)\n",
      "res.keys()\n"
     ],
     "language": "python",
     "metadata": {},
     "outputs": [
      {
       "metadata": {},
       "output_type": "pyout",
       "prompt_number": 27,
       "text": [
        "[u'assembly_name',\n",
        " u'display_name',\n",
        " u'description',\n",
        " u'seq_region_name',\n",
        " u'logic_name',\n",
        " u'object_type',\n",
        " u'start',\n",
        " u'id',\n",
        " u'source',\n",
        " u'db_type',\n",
        " u'biotype',\n",
        " u'end',\n",
        " u'Transcript',\n",
        " u'species',\n",
        " u'strand']"
       ]
      }
     ],
     "prompt_number": 27
    },
    {
     "cell_type": "heading",
     "level": 3,
     "metadata": {},
     "source": [
      "WikiPathway"
     ]
    },
    {
     "cell_type": "code",
     "collapsed": false,
     "input": [
      "s = WikiPathways()"
     ],
     "language": "python",
     "metadata": {},
     "outputs": [
      {
       "output_type": "stream",
       "stream": "stderr",
       "text": [
        "INFO:root:Initialising WikiPathways service (WSDL)\n"
       ]
      },
      {
       "output_type": "stream",
       "stream": "stderr",
       "text": [
        "INFO:root:Fetching organisms...\n"
       ]
      }
     ],
     "prompt_number": 28
    },
    {
     "cell_type": "code",
     "collapsed": false,
     "input": [
      "im = s.getColoredPathway(\"WP2320\")"
     ],
     "language": "python",
     "metadata": {},
     "outputs": [],
     "prompt_number": 29
    },
    {
     "cell_type": "code",
     "collapsed": false,
     "input": [
      "from IPython.display import SVG"
     ],
     "language": "python",
     "metadata": {},
     "outputs": [],
     "prompt_number": 30
    },
    {
     "cell_type": "code",
     "collapsed": false,
     "input": [
      "SVG(im)"
     ],
     "language": "python",
     "metadata": {},
     "outputs": [
      {
       "metadata": {},
       "output_type": "pyout",
       "prompt_number": 31,
       "svg": [
        "<svg height=\"436\" style=\"fill-opacity:1; color-rendering:auto; color-interpolation:auto; stroke:black; text-rendering:auto; stroke-linecap:square; stroke-miterlimit:10; stroke-opacity:1; shape-rendering:auto; fill:black; stroke-dasharray:none; font-weight:normal; stroke-width:1; font-family:'Dialog'; font-style:normal; stroke-linejoin:miter; font-size:12; stroke-dashoffset:0; image-rendering:auto;\" width=\"532\" xmlns=\"http://www.w3.org/2000/svg\" xmlns:xlink=\"http://www.w3.org/1999/xlink\"><!--Generated by the Batik Graphics2D SVG Generator--><defs id=\"genericDefs\"/><g><defs id=\"defs1\"><clipPath clipPathUnits=\"userSpaceOnUse\" id=\"clipPath1\"><path d=\"M0 0 L542 0 L542 446 L0 446 L0 0 Z\"/></clipPath><clipPath clipPathUnits=\"userSpaceOnUse\" id=\"clipPath2\"><path d=\"M0 0 L0 200 L200 200 L200 0 Z\"/></clipPath><clipPath clipPathUnits=\"userSpaceOnUse\" id=\"clipPath3\"><path d=\"M218.7679 311.5002 L218.7679 354.773 L251.5748 354.773 L251.5748 311.5002 Z\"/></clipPath><clipPath clipPathUnits=\"userSpaceOnUse\" id=\"clipPath4\"><path d=\"M256.4624 177.4758 L256.4624 204.9012 L282.5429 204.9012 L282.5429 177.4758 Z\"/></clipPath><clipPath clipPathUnits=\"userSpaceOnUse\" id=\"clipPath5\"><path d=\"M423.4466 201.2702 L423.4466 227.7898 L435.3746 227.7898 L435.3746 201.2702 Z\"/></clipPath><clipPath clipPathUnits=\"userSpaceOnUse\" id=\"clipPath6\"><path d=\"M302.0593 214.0259 L302.0593 273.6151 L377.6648 273.6151 L377.6648 214.0259 Z\"/></clipPath><clipPath clipPathUnits=\"userSpaceOnUse\" id=\"clipPath7\"><path d=\"M326.9144 356.7574 L326.9144 372.6404 L369.2608 372.6404 L369.2608 356.7574 Z\"/></clipPath><clipPath clipPathUnits=\"userSpaceOnUse\" id=\"clipPath8\"><path d=\"M268.5839 49.9743 L268.5839 175.9924 L273.7361 175.9924 L273.7361 49.9743 Z\"/></clipPath><clipPath clipPathUnits=\"userSpaceOnUse\" id=\"clipPath9\"><path d=\"M236.7264 236.2306 L236.7264 284.9851 L262.9185 284.9851 L262.9185 236.2306 Z\"/></clipPath><clipPath clipPathUnits=\"userSpaceOnUse\" id=\"clipPath10\"><path d=\"M290.8428 97.2549 L290.8428 113.0845 L352.5037 113.0845 L352.5037 97.2549 Z\"/></clipPath><clipPath clipPathUnits=\"userSpaceOnUse\" id=\"clipPath11\"><path d=\"M269.1087 311.4962 L269.1087 354.6848 L306.1502 354.6848 L306.1502 311.4962 Z\"/></clipPath><clipPath clipPathUnits=\"userSpaceOnUse\" id=\"clipPath12\"><path d=\"M121.5817 167.826 L121.5817 299.4911 L209.4857 299.4911 L209.4857 167.826 Z\"/></clipPath><clipPath clipPathUnits=\"userSpaceOnUse\" id=\"clipPath13\"><path d=\"M146.1243 143.9714 L146.1243 215.8 L237.8712 215.8 L237.8712 143.9714 Z\"/></clipPath><clipPath clipPathUnits=\"userSpaceOnUse\" id=\"clipPath14\"><path d=\"M301.6258 195.3037 L301.6258 218.9827 L372.2404 218.9827 L372.2404 195.3037 Z\"/></clipPath><clipPath clipPathUnits=\"userSpaceOnUse\" id=\"clipPath15\"><path d=\"M264.9049 20.0202 L264.9049 54.1014 L281.119 54.1014 L281.119 20.0202 Z\"/></clipPath><clipPath clipPathUnits=\"userSpaceOnUse\" id=\"clipPath16\"><path d=\"M366.8527 347.9345 L366.8527 378.8627 L421.954 378.8627 L421.954 347.9345 Z\"/></clipPath><clipPath clipPathUnits=\"userSpaceOnUse\" id=\"clipPath17\"><path d=\"M82.4135 124.2009 L82.4135 181.1423 L146.2062 181.1423 L146.2062 124.2009 Z\"/></clipPath><clipPath clipPathUnits=\"userSpaceOnUse\" id=\"clipPath18\"><path d=\"M208.5 287.5 L208.5 313.9 L291.85 313.9 L291.85 287.5 Z\"/></clipPath><clipPath clipPathUnits=\"userSpaceOnUse\" id=\"clipPath19\"><path d=\"M246.8 150.7 L246.8 173.75 L292.4 173.75 L292.4 150.7 Z\"/></clipPath><clipPath clipPathUnits=\"userSpaceOnUse\" id=\"clipPath20\"><path d=\"M376.3117 248.0888 L376.3117 296.8842 L449.2802 296.8842 L449.2802 248.0888 Z\"/></clipPath><clipPath clipPathUnits=\"userSpaceOnUse\" id=\"clipPath21\"><path d=\"M219.4992 223.7 L219.4992 237.8 L288.2 237.8 L288.2 223.7 Z\"/></clipPath><clipPath clipPathUnits=\"userSpaceOnUse\" id=\"clipPath22\"><path d=\"M351.381 96.1429 L351.381 129.0714 L405.2619 129.0714 L405.2619 96.1429 Z\"/></clipPath><clipPath clipPathUnits=\"userSpaceOnUse\" id=\"clipPath23\"><path d=\"M31.9455 27.9287 L31.9455 422.2349 L518.4863 422.2349 L518.4863 27.9287 Z\"/></clipPath><clipPath clipPathUnits=\"userSpaceOnUse\" id=\"clipPath24\"><path d=\"M369.4547 179.2223 L369.4547 224.3646 L451.3823 224.3646 L451.3823 179.2223 Z\"/></clipPath><clipPath clipPathUnits=\"userSpaceOnUse\" id=\"clipPath25\"><path d=\"M200.6 352.3 L200.6 379.55 L239.9 379.55 L239.9 352.3 Z\"/></clipPath><clipPath clipPathUnits=\"userSpaceOnUse\" id=\"clipPath26\"><path d=\"M248.5944 60.146 L248.5944 84.4367 L294.7346 84.4367 L294.7346 60.146 Z\"/></clipPath><clipPath clipPathUnits=\"userSpaceOnUse\" id=\"clipPath27\"><path d=\"M289.35 348.65 L289.35 375.35 L329.15 375.35 L329.15 348.65 Z\"/></clipPath><clipPath clipPathUnits=\"userSpaceOnUse\" id=\"clipPath28\"><path d=\"M235.7992 208.5 L235.7992 222.6 L304.5 222.6 L304.5 208.5 Z\"/></clipPath><clipPath clipPathUnits=\"userSpaceOnUse\" id=\"clipPath29\"><path d=\"M248.3725 120.7719 L248.3725 144.612 L296.1632 144.612 L296.1632 120.7719 Z\"/></clipPath><clipPath clipPathUnits=\"userSpaceOnUse\" id=\"clipPath30\"><path d=\"M245.7916 92.6398 L245.7916 115.254 L293.5511 115.254 L293.5511 92.6398 Z\"/></clipPath></defs><g style=\"fill:white; stroke:white;\"><rect height=\"446\" style=\"stroke:none;\" width=\"542\" x=\"0\" y=\"0\"/></g><g style=\"font-weight:bold; font-size:10; text-rendering:geometricPrecision;\"><path d=\"M0.0469 4.7031 L6.7656 4.7031 L6.7656 6.125 L4.3438 6.125 L4.3438 12 L2.4688 12 L2.4688 6.125 L0.0469 6.125 L0.0469 4.7031 ZM7.665 6.5312 L9.415 6.5312 L9.415 12 L7.665 12 L7.665 6.5312 ZM7.665 4.4062 L9.415 4.4062 L9.415 5.8281 L7.665 5.8281 L7.665 4.4062 ZM12.999 4.9844 L12.999 6.5312 L14.7959 6.5312 L14.7959 7.7812 L12.999 7.7812 L12.999 10.0938 Q12.999 10.4844 13.1475 10.6172 Q13.2959 10.75 13.749 10.75 L14.6553 10.75 L14.6553 12 L13.1553 12 Q12.1084 12 11.6787 11.5703 Q11.249 11.1406 11.249 10.0938 L11.249 7.7812 L10.374 7.7812 L10.374 6.5312 L11.249 6.5312 L11.249 4.9844 L12.999 4.9844 ZM15.873 4.4062 L17.623 4.4062 L17.623 12 L15.873 12 L15.873 4.4062 ZM24.7539 9.25 L24.7539 9.75 L20.6758 9.75 Q20.7383 10.3594 21.1133 10.6719 Q21.4883 10.9844 22.1758 10.9844 Q22.7227 10.9844 23.3086 10.8203 Q23.8945 10.6562 24.5039 10.3125 L24.5039 11.6719 Q23.8789 11.9062 23.2617 12.0234 Q22.6445 12.1406 22.0195 12.1406 Q20.5352 12.1406 19.7148 11.3828 Q18.8945 10.625 18.8945 9.2656 Q18.8945 7.9375 19.6992 7.1719 Q20.5039 6.4062 21.9258 6.4062 Q23.207 6.4062 23.9805 7.1797 Q24.7539 7.9531 24.7539 9.25 ZM22.957 8.6719 Q22.957 8.1719 22.668 7.8672 Q22.3789 7.5625 21.9102 7.5625 Q21.3945 7.5625 21.082 7.8438 Q20.7695 8.125 20.6914 8.6719 L22.957 8.6719 ZM26.3643 6.5312 L28.1143 6.5312 L28.1143 8.4219 L26.3643 8.4219 L26.3643 6.5312 ZM26.3643 10.1094 L28.1143 10.1094 L28.1143 12 L26.3643 12 L26.3643 10.1094 Z\" style=\"clip-path:url(#clipPath2); stroke:none;\"/><path d=\"M43.2031 7.5781 Q43.5312 6.9688 44 6.6875 Q44.4688 6.4062 45.1094 6.4062 Q45.9688 6.4062 46.4297 7 Q46.8906 7.5938 46.8906 8.7031 L46.8906 12 L45.9844 12 L45.9844 8.7344 Q45.9844 7.9375 45.7109 7.5625 Q45.4375 7.1875 44.8594 7.1875 Q44.1562 7.1875 43.7578 7.6484 Q43.3594 8.1094 43.3594 8.9062 L43.3594 12 L42.4531 12 L42.4531 8.7344 Q42.4531 7.9375 42.1719 7.5625 Q41.8906 7.1875 41.3125 7.1875 Q40.625 7.1875 40.2188 7.6484 Q39.8125 8.1094 39.8125 8.9062 L39.8125 12 L38.9062 12 L38.9062 6.5312 L39.8125 6.5312 L39.8125 7.375 Q40.125 6.875 40.5547 6.6406 Q40.9844 6.4062 41.5625 6.4062 Q42.1719 6.4062 42.5859 6.7031 Q43 7 43.2031 7.5781 ZM47.71 4.7031 L53.8818 4.7031 L53.8818 5.5469 L51.2881 5.5469 L51.2881 12 L50.3037 12 L50.3037 5.5469 L47.71 5.5469 L47.71 4.7031 ZM57.7871 5.375 Q56.709 5.375 56.084 6.1797 Q55.459 6.9844 55.459 8.3594 Q55.459 9.7344 56.084 10.5391 Q56.709 11.3438 57.7871 11.3438 Q58.8652 11.3438 59.4902 10.5391 Q60.1152 9.7344 60.1152 8.3594 Q60.1152 6.9844 59.4902 6.1797 Q58.8652 5.375 57.7871 5.375 ZM57.7871 4.5781 Q59.3184 4.5781 60.2402 5.6094 Q61.1621 6.6406 61.1621 8.3594 Q61.1621 10.0781 60.2402 11.1094 Q59.3184 12.1406 57.7871 12.1406 Q56.2559 12.1406 55.334 11.1172 Q54.4121 10.0938 54.4121 8.3594 Q54.4121 6.6406 55.334 5.6094 Q56.2559 4.5781 57.7871 4.5781 ZM66.1582 8.5781 Q66.4707 8.6875 66.7754 9.0391 Q67.0801 9.3906 67.377 10 L68.377 12 L67.3145 12 L66.3926 10.125 Q66.0332 9.3906 65.6895 9.1562 Q65.3457 8.9219 64.7676 8.9219 L63.6895 8.9219 L63.6895 12 L62.7051 12 L62.7051 4.7031 L64.9238 4.7031 Q66.1738 4.7031 66.791 5.2266 Q67.4082 5.75 67.4082 6.8125 Q67.4082 7.5 67.0879 7.9531 Q66.7676 8.4062 66.1582 8.5781 ZM63.6895 5.5156 L63.6895 8.1094 L64.9238 8.1094 Q65.6426 8.1094 66.0098 7.7812 Q66.377 7.4531 66.377 6.8125 Q66.377 6.1719 66.0098 5.8438 Q65.6426 5.5156 64.9238 5.5156 L63.6895 5.5156 ZM69.1533 8.8594 L71.7939 8.8594 L71.7939 9.6562 L69.1533 9.6562 L69.1533 8.8594 ZM76.8242 7.3594 L76.8242 4.4062 L77.7148 4.4062 L77.7148 12 L76.8242 12 L76.8242 11.1719 Q76.543 11.6719 76.1055 11.9062 Q75.668 12.1406 75.0586 12.1406 Q74.0742 12.1406 73.4492 11.3516 Q72.8242 10.5625 72.8242 9.2656 Q72.8242 7.9844 73.4492 7.1953 Q74.0742 6.4062 75.0586 6.4062 Q75.668 6.4062 76.1055 6.6406 Q76.543 6.875 76.8242 7.3594 ZM73.7617 9.2656 Q73.7617 10.2656 74.168 10.8281 Q74.5742 11.3906 75.293 11.3906 Q75.9961 11.3906 76.4102 10.8281 Q76.8242 10.2656 76.8242 9.2656 Q76.8242 8.2812 76.4102 7.7188 Q75.9961 7.1562 75.293 7.1562 Q74.5742 7.1562 74.168 7.7188 Q73.7617 8.2812 73.7617 9.2656 ZM84.25 9.0469 L84.25 9.4844 L80.1094 9.4844 Q80.1719 10.4062 80.6719 10.8906 Q81.1719 11.375 82.0625 11.375 Q82.5781 11.375 83.0703 11.25 Q83.5625 11.125 84.0312 10.875 L84.0312 11.7188 Q83.5469 11.9219 83.0391 12.0312 Q82.5312 12.1406 82.0156 12.1406 Q80.7031 12.1406 79.9375 11.3828 Q79.1719 10.625 79.1719 9.3125 Q79.1719 7.9688 79.8984 7.1875 Q80.625 6.4062 81.8594 6.4062 Q82.9688 6.4062 83.6094 7.1094 Q84.25 7.8125 84.25 9.0469 ZM83.3438 8.7812 Q83.3438 8.0469 82.9375 7.6016 Q82.5312 7.1562 81.875 7.1562 Q81.1094 7.1562 80.6641 7.5859 Q80.2188 8.0156 80.1406 8.7812 L83.3438 8.7812 ZM85.7148 4.4062 L86.6211 4.4062 L86.6211 12 L85.7148 12 L85.7148 4.4062 ZM93.1807 9.0469 L93.1807 9.4844 L89.04 9.4844 Q89.1025 10.4062 89.6025 10.8906 Q90.1025 11.375 90.9932 11.375 Q91.5088 11.375 92.001 11.25 Q92.4932 11.125 92.9619 10.875 L92.9619 11.7188 Q92.4775 11.9219 91.9697 12.0312 Q91.4619 12.1406 90.9463 12.1406 Q89.6338 12.1406 88.8682 11.3828 Q88.1025 10.625 88.1025 9.3125 Q88.1025 7.9688 88.8291 7.1875 Q89.5557 6.4062 90.79 6.4062 Q91.8994 6.4062 92.54 7.1094 Q93.1807 7.8125 93.1807 9.0469 ZM92.2744 8.7812 Q92.2744 8.0469 91.8682 7.6016 Q91.4619 7.1562 90.8057 7.1562 Q90.04 7.1562 89.5947 7.5859 Q89.1494 8.0156 89.0713 8.7812 L92.2744 8.7812 ZM95.5361 4.9844 L95.5361 6.5312 L97.3955 6.5312 L97.3955 7.2344 L95.5361 7.2344 L95.5361 10.2031 Q95.5361 10.8594 95.7236 11.0547 Q95.9111 11.25 96.4736 11.25 L97.3955 11.25 L97.3955 12 L96.4736 12 Q95.4268 12 95.0283 11.6094 Q94.6299 11.2188 94.6299 10.2031 L94.6299 7.2344 L93.9736 7.2344 L93.9736 6.5312 L94.6299 6.5312 L94.6299 4.9844 L95.5361 4.9844 ZM103.2539 9.0469 L103.2539 9.4844 L99.1133 9.4844 Q99.1758 10.4062 99.6758 10.8906 Q100.1758 11.375 101.0664 11.375 Q101.582 11.375 102.0742 11.25 Q102.5664 11.125 103.0352 10.875 L103.0352 11.7188 Q102.5508 11.9219 102.043 12.0312 Q101.5352 12.1406 101.0195 12.1406 Q99.707 12.1406 98.9414 11.3828 Q98.1758 10.625 98.1758 9.3125 Q98.1758 7.9688 98.9023 7.1875 Q99.6289 6.4062 100.8633 6.4062 Q101.9727 6.4062 102.6133 7.1094 Q103.2539 7.8125 103.2539 9.0469 ZM102.3477 8.7812 Q102.3477 8.0469 101.9414 7.6016 Q101.5352 7.1562 100.8789 7.1562 Q100.1133 7.1562 99.668 7.5859 Q99.2227 8.0156 99.1445 8.7812 L102.3477 8.7812 Z\" style=\"clip-path:url(#clipPath2); stroke:none;\"/><path d=\"M4.25 19.9375 Q3.3906 19.9375 2.9141 20.5703 Q2.4375 21.2031 2.4375 22.3594 Q2.4375 23.5156 2.9141 24.1484 Q3.3906 24.7812 4.25 24.7812 Q5.1094 24.7812 5.5859 24.1484 Q6.0625 23.5156 6.0625 22.3594 Q6.0625 21.2031 5.5859 20.5703 Q5.1094 19.9375 4.25 19.9375 ZM4.25 18.5781 Q6 18.5781 7 19.5859 Q8 20.5938 8 22.3594 Q8 24.125 7 25.1328 Q6 26.1406 4.25 26.1406 Q2.5 26.1406 1.5 25.1328 Q0.5 24.125 0.5 22.3594 Q0.5 20.5938 1.5 19.5859 Q2.5 18.5781 4.25 18.5781 ZM13.4072 22.0156 Q13.1729 21.9062 12.9463 21.8594 Q12.7197 21.8125 12.4854 21.8125 Q11.8135 21.8125 11.4541 22.2422 Q11.0947 22.6719 11.0947 23.4844 L11.0947 26 L9.3447 26 L9.3447 20.5312 L11.0947 20.5312 L11.0947 21.4219 Q11.4229 20.8906 11.8604 20.6484 Q12.2979 20.4062 12.9072 20.4062 Q13.001 20.4062 13.1025 20.4062 Q13.2041 20.4062 13.3916 20.4375 L13.4072 22.0156 ZM17.9951 25.0781 Q17.6357 25.5469 17.1982 25.7734 Q16.7607 26 16.1982 26 Q15.1982 26 14.542 25.2109 Q13.8857 24.4219 13.8857 23.2031 Q13.8857 21.9688 14.542 21.1875 Q15.1982 20.4062 16.1982 20.4062 Q16.7607 20.4062 17.1982 20.6328 Q17.6357 20.8594 17.9951 21.3438 L17.9951 20.5312 L19.7451 20.5312 L19.7451 25.4531 Q19.7451 26.7656 18.917 27.4609 Q18.0889 28.1562 16.5107 28.1562 Q15.9951 28.1562 15.5186 28.0781 Q15.042 28 14.5576 27.8438 L14.5576 26.4844 Q15.0107 26.75 15.4482 26.875 Q15.8857 27 16.3389 27 Q17.1982 27 17.5967 26.625 Q17.9951 26.25 17.9951 25.4531 L17.9951 25.0781 ZM16.8389 21.6719 Q16.292 21.6719 15.9951 22.0703 Q15.6982 22.4688 15.6982 23.2031 Q15.6982 23.9531 15.9873 24.3438 Q16.2764 24.7344 16.8389 24.7344 Q17.3857 24.7344 17.6904 24.3281 Q17.9951 23.9219 17.9951 23.2031 Q17.9951 22.4688 17.6904 22.0703 Q17.3857 21.6719 16.8389 21.6719 ZM23.8877 23.5312 Q23.3408 23.5312 23.0596 23.7188 Q22.7783 23.9062 22.7783 24.2656 Q22.7783 24.6094 23.0049 24.7969 Q23.2314 24.9844 23.6221 24.9844 Q24.1221 24.9844 24.458 24.625 Q24.7939 24.2656 24.7939 23.7344 L24.7939 23.5312 L23.8877 23.5312 ZM26.5596 22.875 L26.5596 26 L24.7939 26 L24.7939 25.1875 Q24.4346 25.6875 23.9971 25.9141 Q23.5596 26.1406 22.9346 26.1406 Q22.0752 26.1406 21.5518 25.6484 Q21.0283 25.1562 21.0283 24.3594 Q21.0283 23.3906 21.6846 22.9453 Q22.3408 22.5 23.7627 22.5 L24.7939 22.5 L24.7939 22.3594 Q24.7939 21.9531 24.4658 21.7578 Q24.1377 21.5625 23.4502 21.5625 Q22.8877 21.5625 22.4033 21.6719 Q21.9189 21.7812 21.4971 22.0156 L21.4971 20.6719 Q22.0596 20.5469 22.6299 20.4766 Q23.2002 20.4062 23.7627 20.4062 Q25.2471 20.4062 25.9033 20.9844 Q26.5596 21.5625 26.5596 22.875 ZM33.6826 22.6719 L33.6826 26 L31.917 26 L31.917 25.4531 L31.917 23.4531 Q31.917 22.75 31.8857 22.4766 Q31.8545 22.2031 31.7764 22.0781 Q31.6826 21.9062 31.5029 21.8125 Q31.3232 21.7188 31.1045 21.7188 Q30.5576 21.7188 30.2451 22.1406 Q29.9326 22.5625 29.9326 23.3125 L29.9326 26 L28.1826 26 L28.1826 20.5312 L29.9326 20.5312 L29.9326 21.3281 Q30.3232 20.8594 30.7686 20.6328 Q31.2139 20.4062 31.7451 20.4062 Q32.6982 20.4062 33.1904 20.9844 Q33.6826 21.5625 33.6826 22.6719 ZM35.3018 20.5312 L37.0518 20.5312 L37.0518 26 L35.3018 26 L35.3018 20.5312 ZM35.3018 18.4062 L37.0518 18.4062 L37.0518 19.8281 L35.3018 19.8281 L35.3018 18.4062 ZM42.9951 20.7031 L42.9951 22.0312 Q42.4326 21.7969 41.9092 21.6797 Q41.3857 21.5625 40.9326 21.5625 Q40.4326 21.5625 40.1904 21.6875 Q39.9482 21.8125 39.9482 22.0625 Q39.9482 22.2812 40.1279 22.3906 Q40.3076 22.5 40.792 22.5625 L41.0889 22.5938 Q42.4326 22.7656 42.9014 23.1562 Q43.3701 23.5469 43.3701 24.3906 Q43.3701 25.2656 42.7217 25.7031 Q42.0732 26.1406 40.792 26.1406 Q40.2607 26.1406 39.6826 26.0547 Q39.1045 25.9688 38.4795 25.7969 L38.4795 24.4688 Q39.0107 24.7188 39.5576 24.8516 Q40.1045 24.9844 40.667 24.9844 Q41.1826 24.9844 41.4404 24.8438 Q41.6982 24.7031 41.6982 24.4219 Q41.6982 24.1875 41.5264 24.0703 Q41.3545 23.9531 40.8232 23.8906 L40.5107 23.8438 Q39.3389 23.7031 38.8701 23.3047 Q38.4014 22.9062 38.4014 22.1094 Q38.4014 21.2344 38.9951 20.8203 Q39.5889 20.4062 40.8232 20.4062 Q41.3076 20.4062 41.8389 20.4766 Q42.3701 20.5469 42.9951 20.7031 ZM49.7441 21.4375 Q50.0723 20.9375 50.5332 20.6719 Q50.9941 20.4062 51.541 20.4062 Q52.4785 20.4062 52.9707 20.9844 Q53.4629 21.5625 53.4629 22.6719 L53.4629 26 L51.7129 26 L51.7129 23.1406 Q51.7129 23.0781 51.7129 23.0156 Q51.7129 22.9531 51.7129 22.8281 Q51.7129 22.2344 51.5488 21.9766 Q51.3848 21.7188 50.9941 21.7188 Q50.4941 21.7188 50.2285 22.125 Q49.9629 22.5312 49.9473 23.3125 L49.9473 26 L48.1816 26 L48.1816 23.1406 Q48.1816 22.2344 48.0254 21.9766 Q47.8691 21.7188 47.4785 21.7188 Q46.9785 21.7188 46.7051 22.1328 Q46.4316 22.5469 46.4316 23.3125 L46.4316 26 L44.666 26 L44.666 20.5312 L46.4316 20.5312 L46.4316 21.3281 Q46.7441 20.875 47.166 20.6406 Q47.5879 20.4062 48.0879 20.4062 Q48.6504 20.4062 49.0879 20.6797 Q49.5254 20.9531 49.7441 21.4375 ZM55.3828 20.5312 L57.1328 20.5312 L57.1328 22.4219 L55.3828 22.4219 L55.3828 20.5312 ZM55.3828 24.1094 L57.1328 24.1094 L57.1328 26 L55.3828 26 L55.3828 24.1094 Z\" style=\"clip-path:url(#clipPath2); stroke:none;\"/><path d=\"M66.9844 18.7031 L67.9688 18.7031 L67.9688 21.7031 L71.5469 21.7031 L71.5469 18.7031 L72.5312 18.7031 L72.5312 26 L71.5469 26 L71.5469 22.5312 L67.9688 22.5312 L67.9688 26 L66.9844 26 L66.9844 18.7031 ZM76.582 21.1562 Q75.8633 21.1562 75.4414 21.7188 Q75.0195 22.2812 75.0195 23.2656 Q75.0195 24.25 75.4336 24.8125 Q75.8477 25.375 76.582 25.375 Q77.3008 25.375 77.7227 24.8125 Q78.1445 24.25 78.1445 23.2656 Q78.1445 22.2969 77.7227 21.7266 Q77.3008 21.1562 76.582 21.1562 ZM76.582 20.4062 Q77.7539 20.4062 78.4258 21.1641 Q79.0977 21.9219 79.0977 23.2656 Q79.0977 24.6094 78.4258 25.375 Q77.7539 26.1406 76.582 26.1406 Q75.4102 26.1406 74.7383 25.375 Q74.0664 24.6094 74.0664 23.2656 Q74.0664 21.9219 74.7383 21.1641 Q75.4102 20.4062 76.582 20.4062 ZM84.8408 21.5781 Q85.1689 20.9688 85.6377 20.6875 Q86.1064 20.4062 86.7471 20.4062 Q87.6064 20.4062 88.0674 21 Q88.5283 21.5938 88.5283 22.7031 L88.5283 26 L87.6221 26 L87.6221 22.7344 Q87.6221 21.9375 87.3486 21.5625 Q87.0752 21.1875 86.4971 21.1875 Q85.7939 21.1875 85.3955 21.6484 Q84.9971 22.1094 84.9971 22.9062 L84.9971 26 L84.0908 26 L84.0908 22.7344 Q84.0908 21.9375 83.8096 21.5625 Q83.5283 21.1875 82.9502 21.1875 Q82.2627 21.1875 81.8564 21.6484 Q81.4502 22.1094 81.4502 22.9062 L81.4502 26 L80.5439 26 L80.5439 20.5312 L81.4502 20.5312 L81.4502 21.375 Q81.7627 20.875 82.1924 20.6406 Q82.6221 20.4062 83.2002 20.4062 Q83.8096 20.4062 84.2236 20.7031 Q84.6377 21 84.8408 21.5781 ZM92.4414 21.1562 Q91.7227 21.1562 91.3008 21.7188 Q90.8789 22.2812 90.8789 23.2656 Q90.8789 24.25 91.293 24.8125 Q91.707 25.375 92.4414 25.375 Q93.1602 25.375 93.582 24.8125 Q94.0039 24.25 94.0039 23.2656 Q94.0039 22.2969 93.582 21.7266 Q93.1602 21.1562 92.4414 21.1562 ZM92.4414 20.4062 Q93.6133 20.4062 94.2852 21.1641 Q94.957 21.9219 94.957 23.2656 Q94.957 24.6094 94.2852 25.375 Q93.6133 26.1406 92.4414 26.1406 Q91.2695 26.1406 90.5977 25.375 Q89.9258 24.6094 89.9258 23.2656 Q89.9258 21.9219 90.5977 21.1641 Q91.2695 20.4062 92.4414 20.4062 ZM103.0977 20.6875 L103.0977 21.5469 Q102.7227 21.3438 102.3164 21.25 Q101.9102 21.1562 101.457 21.1562 Q100.8008 21.1562 100.4648 21.3594 Q100.1289 21.5625 100.1289 21.9688 Q100.1289 22.2812 100.3633 22.4609 Q100.5977 22.6406 101.332 22.7969 L101.6289 22.875 Q102.5977 23.0781 102.9961 23.4531 Q103.3945 23.8281 103.3945 24.4844 Q103.3945 25.25 102.793 25.6953 Q102.1914 26.1406 101.1445 26.1406 Q100.6914 26.1406 100.2148 26.0547 Q99.7383 25.9688 99.2227 25.7969 L99.2227 24.875 Q99.7227 25.125 100.1992 25.2578 Q100.6758 25.3906 101.1602 25.3906 Q101.7852 25.3906 102.1289 25.1719 Q102.4727 24.9531 102.4727 24.5625 Q102.4727 24.1875 102.2305 23.9922 Q101.9883 23.7969 101.1445 23.625 L100.832 23.5469 Q100.0039 23.375 99.6289 23.0078 Q99.2539 22.6406 99.2539 22.0156 Q99.2539 21.2344 99.8008 20.8203 Q100.3477 20.4062 101.3633 20.4062 Q101.8477 20.4062 102.293 20.4766 Q102.7383 20.5469 103.0977 20.6875 ZM107.3076 23.25 Q106.2295 23.25 105.8076 23.5 Q105.3857 23.75 105.3857 24.3438 Q105.3857 24.8281 105.6982 25.1094 Q106.0107 25.3906 106.5576 25.3906 Q107.3076 25.3906 107.7607 24.8594 Q108.2139 24.3281 108.2139 23.4531 L108.2139 23.25 L107.3076 23.25 ZM109.1045 22.875 L109.1045 26 L108.2139 26 L108.2139 25.1719 Q107.9014 25.6719 107.4404 25.9062 Q106.9795 26.1406 106.3232 26.1406 Q105.4795 26.1406 104.9795 25.6719 Q104.4795 25.2031 104.4795 24.4062 Q104.4795 23.4844 105.1045 23.0156 Q105.7295 22.5469 106.9482 22.5469 L108.2139 22.5469 L108.2139 22.4531 Q108.2139 21.8438 107.7998 21.5 Q107.3857 21.1562 106.6514 21.1562 Q106.1826 21.1562 105.7373 21.2734 Q105.292 21.3906 104.8857 21.6094 L104.8857 20.7812 Q105.3857 20.5938 105.8467 20.5 Q106.3076 20.4062 106.7451 20.4062 Q107.9326 20.4062 108.5186 21.0156 Q109.1045 21.625 109.1045 22.875 ZM111.8262 25.1719 L111.8262 28.0781 L110.9199 28.0781 L110.9199 20.5312 L111.8262 20.5312 L111.8262 21.3594 Q112.1074 20.875 112.5371 20.6406 Q112.9668 20.4062 113.5762 20.4062 Q114.5762 20.4062 115.1934 21.1953 Q115.8105 21.9844 115.8105 23.2656 Q115.8105 24.5625 115.1934 25.3516 Q114.5762 26.1406 113.5762 26.1406 Q112.9668 26.1406 112.5371 25.9062 Q112.1074 25.6719 111.8262 25.1719 ZM114.8887 23.2656 Q114.8887 22.2812 114.4746 21.7188 Q114.0605 21.1562 113.3574 21.1562 Q112.6387 21.1562 112.2324 21.7188 Q111.8262 22.2812 111.8262 23.2656 Q111.8262 24.2656 112.2324 24.8281 Q112.6387 25.3906 113.3574 25.3906 Q114.0605 25.3906 114.4746 24.8281 Q114.8887 24.2656 114.8887 23.2656 ZM117.2988 20.5312 L118.2051 20.5312 L118.2051 26 L117.2988 26 L117.2988 20.5312 ZM117.2988 18.4062 L118.2051 18.4062 L118.2051 19.5469 L117.2988 19.5469 L117.2988 18.4062 ZM124.7646 23.0469 L124.7646 23.4844 L120.624 23.4844 Q120.6865 24.4062 121.1865 24.8906 Q121.6865 25.375 122.5771 25.375 Q123.0928 25.375 123.585 25.25 Q124.0771 25.125 124.5459 24.875 L124.5459 25.7188 Q124.0615 25.9219 123.5537 26.0312 Q123.0459 26.1406 122.5303 26.1406 Q121.2178 26.1406 120.4521 25.3828 Q119.6865 24.625 119.6865 23.3125 Q119.6865 21.9688 120.4131 21.1875 Q121.1396 20.4062 122.374 20.4062 Q123.4834 20.4062 124.124 21.1094 Q124.7646 21.8125 124.7646 23.0469 ZM123.8584 22.7812 Q123.8584 22.0469 123.4521 21.6016 Q123.0459 21.1562 122.3896 21.1562 Q121.624 21.1562 121.1787 21.5859 Q120.7334 22.0156 120.6553 22.7812 L123.8584 22.7812 ZM130.7764 22.7031 L130.7764 26 L129.8857 26 L129.8857 22.7344 Q129.8857 21.9531 129.5811 21.5703 Q129.2764 21.1875 128.667 21.1875 Q127.9482 21.1875 127.5264 21.6484 Q127.1045 22.1094 127.1045 22.9062 L127.1045 26 L126.1982 26 L126.1982 20.5312 L127.1045 20.5312 L127.1045 21.375 Q127.4326 20.8906 127.8701 20.6484 Q128.3076 20.4062 128.8701 20.4062 Q129.8076 20.4062 130.292 20.9844 Q130.7764 21.5625 130.7764 22.7031 ZM136.0518 20.6875 L136.0518 21.5469 Q135.6768 21.3438 135.2705 21.25 Q134.8643 21.1562 134.4111 21.1562 Q133.7549 21.1562 133.4189 21.3594 Q133.083 21.5625 133.083 21.9688 Q133.083 22.2812 133.3174 22.4609 Q133.5518 22.6406 134.2861 22.7969 L134.583 22.875 Q135.5518 23.0781 135.9502 23.4531 Q136.3486 23.8281 136.3486 24.4844 Q136.3486 25.25 135.7471 25.6953 Q135.1455 26.1406 134.0986 26.1406 Q133.6455 26.1406 133.1689 26.0547 Q132.6924 25.9688 132.1768 25.7969 L132.1768 24.875 Q132.6768 25.125 133.1533 25.2578 Q133.6299 25.3906 134.1143 25.3906 Q134.7393 25.3906 135.083 25.1719 Q135.4268 24.9531 135.4268 24.5625 Q135.4268 24.1875 135.1846 23.9922 Q134.9424 23.7969 134.0986 23.625 L133.7861 23.5469 Q132.958 23.375 132.583 23.0078 Q132.208 22.6406 132.208 22.0156 Q132.208 21.2344 132.7549 20.8203 Q133.3018 20.4062 134.3174 20.4062 Q134.8018 20.4062 135.2471 20.4766 Q135.6924 20.5469 136.0518 20.6875 Z\" style=\"clip-path:url(#clipPath2); stroke:none;\"/></g><g style=\"fill:rgb(0,153,0); text-rendering:geometricPrecision; stroke-width:2; stroke:rgb(0,153,0);\"><path d=\"M250.175 312.9 L220.25 352.8\" style=\"fill:none; clip-path:url(#clipPath3);\"/><path d=\"M220.25 352.8 L234.01 345.12 L223.77 337.44 Z\" style=\"clip-path:url(#clipPath3); fill-rule:evenodd; stroke:none;\"/></g><g style=\"fill:red; text-rendering:geometricPrecision; stroke-width:2; stroke:red;\"><path d=\"M270.9 178.5 L270.3221 202.0021\" style=\"fill:none; clip-path:url(#clipPath4);\"/><path d=\"M281.5187 202.2774 L281.4794 203.877 L257.4866 203.287 L257.5259 201.6875 L281.5187 202.2774 Z\" style=\"fill:white; clip-path:url(#clipPath4); stroke:none;\"/><path d=\"M281.5187 202.2774 L281.4794 203.877 L257.4866 203.287 L257.5259 201.6875 L281.5187 202.2774 Z\" style=\"fill:none; clip-path:url(#clipPath4);\"/></g><g style=\"text-rendering:geometricPrecision;\"><path d=\"M428.8111 201.7935 L429.434 214.8748\" style=\"fill:none; clip-path:url(#clipPath5);\"/><path d=\"M434.6281 214.6275 L429.9905 226.5616 L424.2399 215.1221 Z\" style=\"clip-path:url(#clipPath5); stroke:none;\"/></g><g style=\"fill:rgb(51,153,0); text-rendering:geometricPrecision; stroke-width:2; stroke-dasharray:4,4; stroke:rgb(51,153,0);\"><path d=\"M376.2607 272.211 L304 215.55\" style=\"fill:none; clip-path:url(#clipPath6);\"/><path d=\"M304 215.55 L311.3827 229.4718 L319.2809 219.3991 Z\" style=\"stroke-dasharray:none; clip-path:url(#clipPath6); fill-rule:evenodd; stroke:none;\"/></g><g style=\"fill:red; text-rendering:geometricPrecision; stroke-width:2; stroke-dasharray:4,4; stroke:red;\"><path d=\"M327.9144 364.6996 L366.8017 364.6996\" style=\"fill:none; clip-path:url(#clipPath7);\"/><path d=\"M366.8017 364.6996 L352.4016 358.2997 L352.4016 371.0996 Z\" style=\"stroke-dasharray:none; clip-path:url(#clipPath7); fill-rule:evenodd; stroke:none;\"/></g><g style=\"fill:rgb(51,204,0); text-rendering:geometricPrecision; stroke-width:3; stroke:rgb(51,204,0);\"><path d=\"M272.211 51.4994 L270.1089 174.4673\" style=\"fill:none; clip-path:url(#clipPath8);\"/></g><g style=\"fill:rgb(204,0,0); text-rendering:geometricPrecision; stroke-width:2; stroke:rgb(204,0,0);\"><path d=\"M253.85 237.3 L250.6761 281.518\" style=\"fill:none; clip-path:url(#clipPath9);\"/><path d=\"M261.8474 282.3198 L261.7328 283.9157 L237.7944 282.1975 L237.909 280.6016 L261.8474 282.3198 Z\" style=\"fill:white; clip-path:url(#clipPath9); stroke:none;\"/><path d=\"M261.8474 282.3198 L261.7328 283.9157 L237.7944 282.1975 L237.909 280.6016 L261.8474 282.3198 Z\" style=\"fill:none; clip-path:url(#clipPath9);\"/></g><g style=\"fill:rgb(255,51,51); text-rendering:geometricPrecision; stroke-width:2; stroke-dasharray:4,4; stroke:rgb(255,51,51);\"><path d=\"M351.4286 108.5714 L293.3026 103.9469\" style=\"fill:none; clip-path:url(#clipPath10);\"/><path d=\"M293.3026 103.9469 L307.1497 111.4688 L308.1649 98.7091 Z\" style=\"stroke-dasharray:none; clip-path:url(#clipPath10); fill-rule:evenodd; stroke:none;\"/></g><g style=\"fill:rgb(204,0,0); text-rendering:geometricPrecision; stroke-width:2; stroke:rgb(204,0,0);\"><path d=\"M270.5125 312.9 L294.938 344.1358\" style=\"fill:none; clip-path:url(#clipPath11);\"/><path d=\"M303.7608 337.2366 L304.7464 338.497 L285.8404 353.2809 L284.8548 352.0205 L303.7608 337.2366 Z\" style=\"fill:white; clip-path:url(#clipPath11); stroke:none;\"/><path d=\"M303.7608 337.2366 L304.7464 338.497 L285.8404 353.2809 L284.8548 352.0205 L303.7608 337.2366 Z\" style=\"fill:none; clip-path:url(#clipPath11);\"/></g><g style=\"fill:rgb(51,153,0); text-rendering:geometricPrecision; stroke-width:2; stroke:rgb(51,153,0);\"><path d=\"M122.9679 169.2122 L208.0995 297.4352\" style=\"fill:none; clip-path:url(#clipPath12);\"/><path d=\"M208.0995 297.4352 L205.4664 281.8985 L194.8027 288.9785 Z\" style=\"clip-path:url(#clipPath12); fill-rule:evenodd; stroke:none;\"/></g><g style=\"fill:red; text-rendering:geometricPrecision; stroke-width:2; stroke:red;\"><path d=\"M236.4767 214.4055 L155.3108 156.7265\" style=\"fill:none; clip-path:url(#clipPath13);\"/><path d=\"M148.8231 165.856 L147.5188 164.9292 L161.4212 145.3658 L162.7254 146.2927 L148.8231 165.856 Z\" style=\"fill:white; clip-path:url(#clipPath13); stroke:none;\"/><path d=\"M148.8231 165.856 L147.5188 164.9292 L161.4212 145.3658 L162.7254 146.2927 L148.8231 165.856 Z\" style=\"fill:none; clip-path:url(#clipPath13);\"/></g><g style=\"fill:rgb(51,153,0); text-rendering:geometricPrecision; stroke-width:2; stroke-dasharray:4,4; stroke:rgb(51,153,0);\"><path d=\"M371.0057 196.5384 L304 215.55\" style=\"fill:none; clip-path:url(#clipPath14);\"/><path d=\"M304 215.55 L319.6001 217.7764 L316.1063 205.4625 Z\" style=\"stroke-dasharray:none; clip-path:url(#clipPath14); fill-rule:evenodd; stroke:none;\"/></g><g style=\"fill:rgb(0,0,153); text-rendering:geometricPrecision; stroke:rgb(0,0,153);\"><path d=\"M265.4049 20.5202 L280.619 20.5202 L280.619 53.6014 L265.4049 53.6014 L265.4049 20.5202 Z\" style=\"clip-path:url(#clipPath15); stroke:none;\"/><path d=\"M265.4049 20.5202 L280.619 20.5202 L280.619 53.6014 L265.4049 53.6014 L265.4049 20.5202 Z\" style=\"fill:none; clip-path:url(#clipPath15); stroke:black;\"/></g><g style=\"fill:rgb(204,204,255); text-rendering:geometricPrecision; stroke:rgb(204,204,255);\"><path d=\"M367.3527 358.4345 L367.3527 368.3627 C367.3527 373.8856 371.8298 378.3627 377.3527 378.3627 L411.454 378.3627 C416.9769 378.3627 421.454 373.8856 421.454 368.3627 L421.454 358.4345 C421.454 352.9117 416.9769 348.4345 411.454 348.4345 L377.3527 348.4345 C371.8298 348.4345 367.3527 352.9117 367.3527 358.4345 Z\" style=\"clip-path:url(#clipPath16); stroke:none;\"/><path d=\"M367.3527 358.4345 L367.3527 368.3627 C367.3527 373.8856 371.8298 378.3627 377.3527 378.3627 L411.454 378.3627 C416.9769 378.3627 421.454 373.8856 421.454 368.3627 L421.454 358.4345 C421.454 352.9117 416.9769 348.4345 411.454 348.4345 L377.3527 348.4345 C371.8298 348.4345 367.3527 352.9117 367.3527 358.4345 Z\" style=\"fill:none; clip-path:url(#clipPath16); stroke:black;\"/><text style=\"fill:black; clip-path:url(#clipPath16); stroke:none;\" x=\"378\" xml:space=\"preserve\" y=\"368\">eIF4E</text></g><g style=\"fill:rgb(51,153,255); text-rendering:geometricPrecision; stroke:rgb(51,153,255);\"><path d=\"M84.6609 163.7558 L93.2335 176.2874 C96.3518 180.8457 102.5749 182.0132 107.1332 178.8949 L141.3513 155.4871 C145.9096 152.3689 147.077 146.1458 143.9588 141.5874 L135.3862 129.0558 C132.2679 124.4975 126.0448 123.3301 121.4865 126.4483 L87.2684 149.8561 C82.7101 152.9744 81.5427 159.1975 84.6609 163.7558 Z\" style=\"clip-path:url(#clipPath17); stroke:none;\"/><path d=\"M84.6609 163.7558 L93.2335 176.2874 C96.3518 180.8457 102.5749 182.0132 107.1332 178.8949 L141.3513 155.4871 C145.9096 152.3689 147.077 146.1458 143.9588 141.5874 L135.3862 129.0558 C132.2679 124.4975 126.0448 123.3301 121.4865 126.4483 L87.2684 149.8561 C82.7101 152.9744 81.5427 159.1975 84.6609 163.7558 Z\" style=\"fill:none; clip-path:url(#clipPath17); stroke:black;\"/><text style=\"fill:black; clip-path:url(#clipPath17); stroke:none;\" x=\"99\" xml:space=\"preserve\" y=\"157\">Rheb</text></g><g style=\"fill:rgb(255,255,102); text-rendering:geometricPrecision; stroke-width:2; stroke:rgb(255,255,102);\"><path d=\"M209.5 288.5 L290.85 288.5 L290.85 312.9 L209.5 312.9 L209.5 288.5 Z\" style=\"clip-path:url(#clipPath18); stroke:none;\"/><path d=\"M209.5 288.5 L290.85 288.5 L290.85 312.9 L209.5 312.9 L209.5 288.5 Z\" style=\"fill:none; clip-path:url(#clipPath18); stroke:black;\"/><text style=\"clip-path:url(#clipPath18); fill:black; stroke:none; stroke-width:1;\" x=\"232\" xml:space=\"preserve\" y=\"305\">mTOR</text></g><g style=\"fill:rgb(153,255,153); text-rendering:geometricPrecision; stroke:rgb(153,255,153);\"><path d=\"M247.3 161.2 L247.3 163.25 C247.3 168.7728 251.7771 173.25 257.3 173.25 L281.9 173.25 C287.4229 173.25 291.9 168.7728 291.9 163.25 L291.9 161.2 C291.9 155.6772 287.4229 151.2 281.9 151.2 L257.3 151.2 C251.7771 151.2 247.3 155.6772 247.3 161.2 Z\" style=\"clip-path:url(#clipPath19); stroke:none;\"/><path d=\"M247.3 161.2 L247.3 163.25 C247.3 168.7728 251.7771 173.25 257.3 173.25 L281.9 173.25 C287.4229 173.25 291.9 168.7728 291.9 163.25 L291.9 161.2 C291.9 155.6772 287.4229 151.2 281.9 151.2 L257.3 151.2 C251.7771 151.2 247.3 155.6772 247.3 161.2 Z\" style=\"fill:none; clip-path:url(#clipPath19); stroke:black;\"/><text style=\"font-size:14; clip-path:url(#clipPath19); fill:black; stroke:none;\" x=\"258\" xml:space=\"preserve\" y=\"167\">Akt</text></g><g style=\"fill:rgb(255,102,255); text-rendering:geometricPrecision; stroke:rgb(255,102,255);\"><path d=\"M376.8117 258.5888 L376.8117 286.3842 C376.8117 291.907 381.2889 296.3842 386.8117 296.3842 L438.7802 296.3842 C444.3031 296.3842 448.7802 291.907 448.7802 286.3842 L448.7802 258.5888 C448.7802 253.0659 444.3031 248.5888 438.7802 248.5888 L386.8117 248.5888 C381.2889 248.5888 376.8117 253.0659 376.8117 258.5888 Z\" style=\"clip-path:url(#clipPath20); stroke:none;\"/><path d=\"M376.8117 258.5888 L376.8117 286.3842 C376.8117 291.907 381.2889 296.3842 386.8117 296.3842 L438.7802 296.3842 C444.3031 296.3842 448.7802 291.907 448.7802 286.3842 L448.7802 258.5888 C448.7802 253.0659 444.3031 248.5888 438.7802 248.5888 L386.8117 248.5888 C381.2889 248.5888 376.8117 253.0659 376.8117 258.5888 Z\" style=\"fill:none; clip-path:url(#clipPath20); stroke:black;\"/><text style=\"fill:black; clip-path:url(#clipPath20); stroke:none;\" x=\"388\" xml:space=\"preserve\" y=\"277\">Hypoxie</text></g><g style=\"fill:rgb(255,102,153); text-rendering:geometricPrecision; stroke:rgb(255,102,153);\"><path d=\"M220 230.75 L220 230.75 C220 234.3675 224.4772 237.3 230 237.3 L277.7 237.3 C283.2228 237.3 287.7 234.3675 287.7 230.75 L287.7 230.75 C287.7 227.1325 283.2228 224.2 277.7 224.2 L230 224.2 C224.4772 224.2 220 227.1325 220 230.75 Z\" style=\"clip-path:url(#clipPath21); stroke:none;\"/><path d=\"M220 230.75 L220 230.75 C220 234.3675 224.4772 237.3 230 237.3 L277.7 237.3 C283.2228 237.3 287.7 234.3675 287.7 230.75 L287.7 230.75 C287.7 227.1325 283.2228 224.2 277.7 224.2 L230 224.2 C224.4772 224.2 220 227.1325 220 230.75 Z\" style=\"fill:none; clip-path:url(#clipPath21); stroke:black;\"/><text style=\"fill:black; clip-path:url(#clipPath21); stroke:none;\" x=\"238\" xml:space=\"preserve\" y=\"236\">TSC1</text></g><g style=\"fill:rgb(255,255,204); text-rendering:geometricPrecision; stroke:rgb(255,255,204);\"><path d=\"M351.881 106.6429 L351.881 118.5714 C351.881 124.0943 356.3581 128.5714 361.881 128.5714 L394.7619 128.5714 C400.2848 128.5714 404.7619 124.0943 404.7619 118.5714 L404.7619 106.6429 C404.7619 101.12 400.2848 96.6429 394.7619 96.6429 L361.881 96.6429 C356.3581 96.6429 351.881 101.12 351.881 106.6429 Z\" style=\"clip-path:url(#clipPath22); stroke:none;\"/><path d=\"M351.881 106.6429 L351.881 118.5714 C351.881 124.0943 356.3581 128.5714 361.881 128.5714 L394.7619 128.5714 C400.2848 128.5714 404.7619 124.0943 404.7619 118.5714 L404.7619 106.6429 C404.7619 101.12 400.2848 96.6429 394.7619 96.6429 L361.881 96.6429 C356.3581 96.6429 351.881 101.12 351.881 106.6429 Z\" style=\"fill:none; clip-path:url(#clipPath22); stroke:black;\"/><text style=\"fill:black; clip-path:url(#clipPath22); stroke:none;\" x=\"363\" xml:space=\"preserve\" y=\"117\">PTEN</text></g><g style=\"fill:silver; text-rendering:geometricPrecision; stroke:silver;\"><path d=\"M507.9863 225.0818 C507.9863 328.167 403.771 411.7349 275.2159 411.7349 C146.6609 411.7349 42.4455 328.167 42.4455 225.0818 C42.4455 121.9966 146.6609 38.4287 275.2159 38.4287 C403.771 38.4287 507.9863 121.9966 507.9863 225.0818 ZM510.9863 225.0818 C510.9863 120.3394 405.4282 35.4287 275.2159 35.4287 C145.0037 35.4287 39.4455 120.3394 39.4455 225.0818 C39.4455 329.8241 145.0037 414.7349 275.2159 414.7349 C405.4282 414.7349 510.9863 329.8241 510.9863 225.0818 ZM516.9863 225.0818 C516.9863 117.0251 408.7426 29.4287 275.2159 29.4287 C141.6893 29.4287 33.4455 117.0251 33.4455 225.0818 C33.4455 333.1385 141.6893 420.7349 275.2159 420.7349 C408.7426 420.7349 516.9863 333.1385 516.9863 225.0818 ZM513.9863 225.0818 C513.9863 331.4814 407.0854 417.7349 275.2159 417.7349 C143.3465 417.7349 36.4455 331.4814 36.4455 225.0818 C36.4455 118.6823 143.3465 32.4287 275.2159 32.4287 C407.0854 32.4287 513.9863 118.6823 513.9863 225.0818 Z\" style=\"clip-path:url(#clipPath23); stroke:none;\"/></g><g style=\"text-rendering:geometricPrecision;\"><path d=\"M369.9547 189.7223 L369.9547 213.8646 C369.9547 219.3875 374.4318 223.8646 379.9547 223.8646 L440.8823 223.8646 C446.4051 223.8646 450.8823 219.3875 450.8823 213.8646 L450.8823 189.7223 C450.8823 184.1994 446.4051 179.7223 440.8823 179.7223 L379.9547 179.7223 C374.4318 179.7223 369.9547 184.1994 369.9547 189.7223 Z\" style=\"fill:none; clip-path:url(#clipPath24);\"/><text style=\"clip-path:url(#clipPath24); stroke:none;\" x=\"394\" xml:space=\"preserve\" y=\"191\">AMPK</text><text style=\"clip-path:url(#clipPath24); stroke:none;\" x=\"397\" xml:space=\"preserve\" y=\"218\">ATP </text></g><g style=\"fill:rgb(102,153,255); text-rendering:geometricPrecision; stroke:rgb(102,153,255);\"><path d=\"M201.1 362.8 L201.1 369.05 C201.1 374.5728 205.5771 379.05 211.1 379.05 L229.4 379.05 C234.9229 379.05 239.4 374.5728 239.4 369.05 L239.4 362.8 C239.4 357.2772 234.9229 352.8 229.4 352.8 L211.1 352.8 C205.5771 352.8 201.1 357.2772 201.1 362.8 Z\" style=\"clip-path:url(#clipPath25); stroke:none;\"/><path d=\"M201.1 362.8 L201.1 369.05 C201.1 374.5728 205.5771 379.05 211.1 379.05 L229.4 379.05 C234.9229 379.05 239.4 374.5728 239.4 369.05 L239.4 362.8 C239.4 357.2772 234.9229 352.8 229.4 352.8 L211.1 352.8 C205.5771 352.8 201.1 357.2772 201.1 362.8 Z\" style=\"fill:none; clip-path:url(#clipPath25); stroke:black;\"/><text style=\"fill:black; clip-path:url(#clipPath25); stroke:none;\" x=\"205\" xml:space=\"preserve\" y=\"370\">S6K1</text></g><g style=\"fill:rgb(102,102,255); text-rendering:geometricPrecision; stroke:rgb(102,102,255);\"><path d=\"M249.1099 70.5972 L249.0945 73.7654 C249.0676 79.2881 253.5228 83.7871 259.0456 83.814 L284.1704 83.9366 C289.6932 83.9635 294.1921 79.5082 294.2191 73.9854 L294.2345 70.8173 C294.2614 65.2945 289.8062 60.7955 284.2834 60.7686 L259.1586 60.6461 C253.6358 60.6191 249.1369 65.0744 249.1099 70.5972 Z\" style=\"clip-path:url(#clipPath26); stroke:none;\"/><path d=\"M249.1099 70.5972 L249.0945 73.7654 C249.0676 79.2881 253.5228 83.7871 259.0456 83.814 L284.1704 83.9366 C289.6932 83.9635 294.1921 79.5082 294.2191 73.9854 L294.2345 70.8173 C294.2614 65.2945 289.8062 60.7955 284.2834 60.7686 L259.1586 60.6461 C253.6358 60.6191 249.1369 65.0744 249.1099 70.5972 Z\" style=\"fill:none; clip-path:url(#clipPath26); stroke:black;\"/><text style=\"fill:black; clip-path:url(#clipPath26); stroke:none;\" x=\"263\" xml:space=\"preserve\" y=\"76\">IRS</text></g><g style=\"fill:rgb(102,153,255); text-rendering:geometricPrecision; stroke:rgb(102,153,255);\"><path d=\"M289.85 359.15 L289.85 364.85 C289.85 370.3728 294.3271 374.85 299.85 374.85 L318.65 374.85 C324.1729 374.85 328.65 370.3728 328.65 364.85 L328.65 359.15 C328.65 353.6272 324.1729 349.15 318.65 349.15 L299.85 349.15 C294.3271 349.15 289.85 353.6272 289.85 359.15 Z\" style=\"clip-path:url(#clipPath27); stroke:none;\"/><path d=\"M289.85 359.15 L289.85 364.85 C289.85 370.3728 294.3271 374.85 299.85 374.85 L318.65 374.85 C324.1729 374.85 328.65 370.3728 328.65 364.85 L328.65 359.15 C328.65 353.6272 324.1729 349.15 318.65 349.15 L299.85 349.15 C294.3271 349.15 289.85 353.6272 289.85 359.15 Z\" style=\"fill:none; clip-path:url(#clipPath27); stroke:black;\"/><text style=\"fill:black; clip-path:url(#clipPath27); stroke:none;\" x=\"294\" xml:space=\"preserve\" y=\"366\">4EBP</text></g><g style=\"fill:rgb(255,153,153); text-rendering:geometricPrecision; stroke:rgb(255,153,153);\"><path d=\"M236.3 215.55 L236.3 215.55 C236.3 219.1675 240.7771 222.1 246.3 222.1 L294 222.1 C299.5229 222.1 304 219.1675 304 215.55 L304 215.55 C304 211.9325 299.5229 209 294 209 L246.3 209 C240.7771 209 236.3 211.9325 236.3 215.55 Z\" style=\"clip-path:url(#clipPath28); stroke:none;\"/><path d=\"M236.3 215.55 L236.3 215.55 C236.3 219.1675 240.7771 222.1 246.3 222.1 L294 222.1 C299.5229 222.1 304 219.1675 304 215.55 L304 215.55 C304 211.9325 299.5229 209 294 209 L246.3 209 C240.7771 209 236.3 211.9325 236.3 215.55 Z\" style=\"fill:none; clip-path:url(#clipPath28); stroke:black;\"/><text style=\"fill:black; clip-path:url(#clipPath28); stroke:none;\" x=\"255\" xml:space=\"preserve\" y=\"220\">TSC2</text></g><g style=\"fill:rgb(102,255,255); text-rendering:geometricPrecision; stroke:rgb(102,255,255);\"><path d=\"M248.9308 131.0172 L248.8758 133.1758 C248.7351 138.6969 253.0967 143.2866 258.6178 143.4273 L285.3534 144.1087 C290.8745 144.2494 295.4642 139.8878 295.6049 134.3667 L295.6599 132.2082 C295.8007 126.6871 291.439 122.0973 285.918 121.9566 L259.1823 121.2753 C253.6613 121.1346 249.0715 125.4962 248.9308 131.0172 Z\" style=\"clip-path:url(#clipPath29); stroke:none;\"/><path d=\"M248.9308 131.0172 L248.8758 133.1758 C248.7351 138.6969 253.0967 143.2866 258.6178 143.4273 L285.3534 144.1087 C290.8745 144.2494 295.4642 139.8878 295.6049 134.3667 L295.6599 132.2082 C295.8007 126.6871 291.439 122.0973 285.918 121.9566 L259.1823 121.2753 C253.6613 121.1346 249.0715 125.4962 248.9308 131.0172 Z\" style=\"fill:none; clip-path:url(#clipPath29); stroke:black;\"/><text style=\"fill:black; clip-path:url(#clipPath29); stroke:none;\" x=\"257\" xml:space=\"preserve\" y=\"137\">PDK1</text></g><g style=\"fill:rgb(255,153,102); text-rendering:geometricPrecision; stroke:rgb(255,153,102);\"><path d=\"M246.3187 102.8851 L246.2949 103.8178 C246.1542 109.3388 250.5159 113.9286 256.0369 114.0693 L282.7726 114.7507 C288.2936 114.8914 292.8834 110.5298 293.0241 105.0087 L293.0479 104.076 C293.1886 98.555 288.8269 93.9652 283.3059 93.8245 L256.5702 93.1431 C251.0492 93.0024 246.4594 97.364 246.3187 102.8851 Z\" style=\"clip-path:url(#clipPath30); stroke:none;\"/><path d=\"M246.3187 102.8851 L246.2949 103.8178 C246.1542 109.3388 250.5159 113.9286 256.0369 114.0693 L282.7726 114.7507 C288.2936 114.8914 292.8834 110.5298 293.0241 105.0087 L293.0479 104.076 C293.1886 98.555 288.8269 93.9652 283.3059 93.8245 L256.5702 93.1431 C251.0492 93.0024 246.4594 97.364 246.3187 102.8851 Z\" style=\"fill:none; clip-path:url(#clipPath30); stroke:black;\"/><text style=\"fill:black; clip-path:url(#clipPath30); stroke:none;\" x=\"257\" xml:space=\"preserve\" y=\"108\">PI3K</text></g></g></svg>"
       ],
       "text": [
        "<IPython.core.display.SVG at 0x5b3dcd0>"
       ]
      }
     ],
     "prompt_number": 31
    },
    {
     "cell_type": "heading",
     "level": 3,
     "metadata": {},
     "source": [
      "ChEMBL"
     ]
    },
    {
     "cell_type": "code",
     "collapsed": false,
     "input": [
      "s = ChEMBL()"
     ],
     "language": "python",
     "metadata": {},
     "outputs": [],
     "prompt_number": 32
    },
    {
     "cell_type": "code",
     "collapsed": false,
     "input": [
      "res = s.get_compounds_by_chemblId(['CHEMBL%s' % i for i in range(0,1000)])"
     ],
     "language": "python",
     "metadata": {},
     "outputs": [
      {
       "metadata": {},
       "output_type": "pyout",
       "prompt_number": 37,
       "text": [
        "{u'compound': {u'acdLogd': 7.67,\n",
        "  u'acdLogp': 7.67,\n",
        "  u'alogp': 3.63,\n",
        "  u'chemblId': u'CHEMBL1',\n",
        "  u'knownDrug': u'No',\n",
        "  u'medChemFriendly': u'Yes',\n",
        "  u'molecularFormula': u'C32H32O8',\n",
        "  u'molecularWeight': 544.59,\n",
        "  u'numRo5Violations': 1,\n",
        "  u'passesRuleOfThree': u'No',\n",
        "  u'rotatableBonds': 2,\n",
        "  u'smiles': u'COc1ccc2[C@@H]3[C@H](COc2c1)C(C)(C)OC4=C3C(=O)C(=O)C5=C4OC(C)(C)[C@@H]6COc7cc(OC)ccc7[C@H]56',\n",
        "  u'stdInChiKey': u'GHBOEFUAGSHXPO-XZOTUCIWSA-N'}}"
       ]
      }
     ],
     "prompt_number": 37
    },
    {
     "cell_type": "code",
     "collapsed": false,
     "input": [
      "res[1]"
     ],
     "language": "python",
     "metadata": {},
     "outputs": [
      {
       "metadata": {},
       "output_type": "pyout",
       "prompt_number": 39,
       "text": [
        "{u'compound': {u'acdLogd': 7.67,\n",
        "  u'acdLogp': 7.67,\n",
        "  u'alogp': 3.63,\n",
        "  u'chemblId': u'CHEMBL1',\n",
        "  u'knownDrug': u'No',\n",
        "  u'medChemFriendly': u'Yes',\n",
        "  u'molecularFormula': u'C32H32O8',\n",
        "  u'molecularWeight': 544.59,\n",
        "  u'numRo5Violations': 1,\n",
        "  u'passesRuleOfThree': u'No',\n",
        "  u'rotatableBonds': 2,\n",
        "  u'smiles': u'COc1ccc2[C@@H]3[C@H](COc2c1)C(C)(C)OC4=C3C(=O)C(=O)C5=C4OC(C)(C)[C@@H]6COc7cc(OC)ccc7[C@H]56',\n",
        "  u'stdInChiKey': u'GHBOEFUAGSHXPO-XZOTUCIWSA-N'}}"
       ]
      }
     ],
     "prompt_number": 39
    },
    {
     "cell_type": "code",
     "collapsed": false,
     "input": [
      "# here this look a bit esoteric but what we do if to remove the 404 numbers\n",
      "# and transform the data into a nice dataframe for easy plotting of some \n",
      "# relevant information \n",
      "df = pd.DataFrame(\n",
      "    [dict(this['compound']) for this in res if this!=404], \n",
      "    index=[this['compound']['chemblId'] for this in res if this!=404])\n",
      "\n",
      "df.plot(x='molecularWeight', y='alogp', marker='o', kind='scatter', \n",
      "        fontsize=20)"
     ],
     "language": "python",
     "metadata": {},
     "outputs": [
      {
       "metadata": {},
       "output_type": "pyout",
       "prompt_number": 51,
       "text": [
        "<matplotlib.axes.AxesSubplot at 0xa8e6ad0>"
       ]
      },
      {
       "metadata": {},
       "output_type": "display_data",
       "png": "[encoded data removed]",
       "text": [
        "<matplotlib.figure.Figure at 0xa8e6590>"
       ]
      }
     ],
     "prompt_number": 51
    },
    {
     "cell_type": "heading",
     "level": 3,
     "metadata": {},
     "source": [
      "KEGG"
     ]
    },
    {
     "cell_type": "code",
     "collapsed": false,
     "input": [
      "k = KEGG(verbose=True)"
     ],
     "language": "python",
     "metadata": {},
     "outputs": [
      {
       "output_type": "stream",
       "stream": "stderr",
       "text": [
        "INFO:root:Initialising KEGG service (REST)\n"
       ]
      }
     ],
     "prompt_number": 52
    },
    {
     "cell_type": "code",
     "collapsed": false,
     "input": [
      "k.lookfor_pathway(\"B cell\")"
     ],
     "language": "python",
     "metadata": {},
     "outputs": [
      {
       "output_type": "stream",
       "stream": "stderr",
       "text": [
        "INFO:requests.packages.urllib3.connectionpool:Starting new HTTP connection (1): rest.kegg.jp\n"
       ]
      },
      {
       "metadata": {},
       "output_type": "pyout",
       "prompt_number": 54,
       "text": [
        "[u'path:map04662 B cell receptor signaling pathway']"
       ]
      }
     ],
     "prompt_number": 54
    },
    {
     "cell_type": "code",
     "collapsed": false,
     "input": [
      "k.show_pathway(\"path:hsa04662\")"
     ],
     "language": "python",
     "metadata": {},
     "outputs": [
      {
       "output_type": "stream",
       "stream": "stderr",
       "text": [
        "INFO:root:http://www.kegg.jp/kegg-bin/show_pathway?hsa04662/default%3dpink/\n"
       ]
      },
      {
       "metadata": {},
       "output_type": "pyout",
       "prompt_number": 53,
       "text": [
        "True"
       ]
      }
     ],
     "prompt_number": 53
    },
    {
     "cell_type": "heading",
     "level": 3,
     "metadata": {},
     "source": [
      "Others"
     ]
    },
    {
     "cell_type": "markdown",
     "metadata": {},
     "source": [
      "        2.1. ArrayExpress\n",
      "        2.2. BioDBnet\n",
      "        2.3. BioGrid\n",
      "        2.4. BioMart\n",
      "        2.5. BioModels\n",
      "        2.6. ChEBI\n",
      "        2.7. ChEMBL\n",
      "        2.8. ChemSpider\n",
      "        2.9. EUtils\n",
      "        2.10. GeneProf\n",
      "        2.11. QuickGO\n",
      "        2.12. Kegg\n",
      "        2.13. HGNC\n",
      "        2.14. MUSCLE\n",
      "        2.15. Miriam\n",
      "        2.16. NCBIblast\n",
      "        2.17. Pathway Commons\n",
      "        2.18. PDB module\n",
      "        2.19. PICR module\n",
      "        2.20. PSICQUIC\n",
      "        2.21. Rhea\n",
      "        2.22. Reactome\n",
      "        2.23. Readseq\n",
      "        2.24. UniChem\n",
      "        2.25. UniProt\n",
      "        2.26. wsdbfetch\n",
      "        2.27. Wikipathway\n",
      "    "
     ]
    },
    {
     "cell_type": "markdown",
     "metadata": {},
     "source": [
      "Resources\n",
      "=============\n",
      "\n",
      "http://pythonhosted.org//bioservices/\n",
      "\n",
      "\n",
      "> BioServices is tested for Python 2.7, 3.3. Version 3.4 is currently not\n",
      "  available due to a gevent dependencies, which should be fixed soon.\n",
      "\n",
      "> contributions: Please join https://github.com/cokelaer/bioservices and share your notebooks https://github.com/bioservices/notebooks/\n",
      "\n",
      ">issues: Please use https://github.com/cokelaer/bioservices/issues\n",
      "\n",
      "\n"
     ]
    },
    {
     "cell_type": "code",
     "collapsed": false,
     "input": [
      "from IPython.core.display import HTML\n",
      "def css_styling():\n",
      "    styles = open(\"../styles/custom.css\", \"r\").read()\n",
      "    return HTML(styles)\n",
      "try:\n",
      "    css_styling()\n",
      "except:\n",
      "    pass\n"
     ],
     "language": "python",
     "metadata": {},
     "outputs": [],
     "prompt_number": 4
    },
    {
     "cell_type": "code",
     "collapsed": false,
     "input": [],
     "language": "python",
     "metadata": {},
     "outputs": []
    }
   ],
   "metadata": {}
  }
 ]
}